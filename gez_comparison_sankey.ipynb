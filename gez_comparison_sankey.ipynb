{
  "nbformat": 4,
  "nbformat_minor": 0,
  "metadata": {
    "colab": {
      "provenance": [],
      "authorship_tag": "ABX9TyOo8Gq3JqfT9PPkWgs55dj1",
      "include_colab_link": true
    },
    "kernelspec": {
      "name": "python3",
      "display_name": "Python 3"
    },
    "language_info": {
      "name": "python"
    },
    "widgets": {
      "application/vnd.jupyter.widget-state+json": {
        "67c07bf467574ce7aea5578bc5837898": {
          "model_module": "jupyter-leaflet",
          "model_name": "LeafletMapModel",
          "model_module_version": "^0.18",
          "state": {
            "_dom_classes": [],
            "_model_module": "jupyter-leaflet",
            "_model_module_version": "^0.18",
            "_model_name": "LeafletMapModel",
            "_view_count": null,
            "_view_module": "jupyter-leaflet",
            "_view_module_version": "^0.18",
            "_view_name": "LeafletMapView",
            "bottom": 812,
            "bounce_at_zoom_limits": true,
            "box_zoom": true,
            "center": [
              0,
              0
            ],
            "close_popup_on_click": true,
            "controls": [
              "IPY_MODEL_7aacef1eecc54aa4b76f69eaa33f31ec",
              "IPY_MODEL_db4beb823f4542309d0e21b5110f8bf8",
              "IPY_MODEL_3d18b94ec7d34a669065601955b12130",
              "IPY_MODEL_8c438886d48440ecb1bfb85d5e025257",
              "IPY_MODEL_8ced83ae661d4442a120f9cc0f9923cd",
              "IPY_MODEL_b3ebdd0046b642c4936640e342b5d4a4",
              "IPY_MODEL_81455e2a6acd4098a36b7c3077d1e861",
              "IPY_MODEL_a634df0ce8b94f239102b94fc74d8307"
            ],
            "crs": {
              "name": "EPSG3857",
              "custom": false
            },
            "default_style": "IPY_MODEL_01ef9c20c06e4ff1851decb63ff6eb9b",
            "double_click_zoom": true,
            "dragging": true,
            "dragging_style": "IPY_MODEL_17e4bae78fb54f528dacce9d6a65f680",
            "east": 262.26562500000006,
            "fullscreen": false,
            "inertia": true,
            "inertia_deceleration": 3000,
            "inertia_max_speed": 1500,
            "interpolation": "bilinear",
            "keyboard": true,
            "keyboard_pan_offset": 80,
            "keyboard_zoom_offset": 1,
            "layers": [
              "IPY_MODEL_7dc95620bea14e24ae1ad39482250e84",
              "IPY_MODEL_8e7e757ec0d84ae9be5f2c62bfe116c6",
              "IPY_MODEL_cf7daac24f7c4faeae37625517e16fb3",
              "IPY_MODEL_7b2360bce6f64fe8af4a0efa164f4498"
            ],
            "layout": "IPY_MODEL_77354b97dfc54b13850029c0640cd117",
            "left": -233,
            "max_zoom": 24,
            "min_zoom": null,
            "modisdate": "2024-04-10",
            "north": 71.9653876991313,
            "options": [
              "bounce_at_zoom_limits",
              "box_zoom",
              "center",
              "close_popup_on_click",
              "double_click_zoom",
              "dragging",
              "fullscreen",
              "inertia",
              "inertia_deceleration",
              "inertia_max_speed",
              "interpolation",
              "keyboard",
              "keyboard_pan_offset",
              "keyboard_zoom_offset",
              "max_zoom",
              "min_zoom",
              "prefer_canvas",
              "scroll_wheel_zoom",
              "tap",
              "tap_tolerance",
              "touch_zoom",
              "world_copy_jump",
              "zoom",
              "zoom_animation_threshold",
              "zoom_delta",
              "zoom_snap"
            ],
            "panes": {},
            "prefer_canvas": false,
            "right": 1258,
            "scroll_wheel_zoom": true,
            "south": -71.96538769913128,
            "style": "IPY_MODEL_46adabd4738341dc8f6a94d79450235a",
            "tap": true,
            "tap_tolerance": 15,
            "top": 212,
            "touch_zoom": true,
            "west": -261.91406250000006,
            "window_url": "https://8alsmkglzxb-496ff2e9c6d22116-0-colab.googleusercontent.com/outputframe.html?vrz=colab_20240409-060157_RC00_623090811",
            "world_copy_jump": false,
            "zoom": 2,
            "zoom_animation_threshold": 4,
            "zoom_delta": 1,
            "zoom_snap": 1
          }
        },
        "7aacef1eecc54aa4b76f69eaa33f31ec": {
          "model_module": "jupyter-leaflet",
          "model_name": "LeafletWidgetControlModel",
          "model_module_version": "^0.18",
          "state": {
            "_model_module": "jupyter-leaflet",
            "_model_module_version": "^0.18",
            "_model_name": "LeafletWidgetControlModel",
            "_view_count": null,
            "_view_module": "jupyter-leaflet",
            "_view_module_version": "^0.18",
            "_view_name": "LeafletWidgetControlView",
            "max_height": null,
            "max_width": null,
            "min_height": null,
            "min_width": null,
            "options": [
              "position",
              "transparent_bg"
            ],
            "position": "topleft",
            "transparent_bg": false,
            "widget": "IPY_MODEL_9d3956134abf4eb6aafb5fb5e466e74a"
          }
        },
        "db4beb823f4542309d0e21b5110f8bf8": {
          "model_module": "jupyter-leaflet",
          "model_name": "LeafletZoomControlModel",
          "model_module_version": "^0.18",
          "state": {
            "_model_module": "jupyter-leaflet",
            "_model_module_version": "^0.18",
            "_model_name": "LeafletZoomControlModel",
            "_view_count": null,
            "_view_module": "jupyter-leaflet",
            "_view_module_version": "^0.18",
            "_view_name": "LeafletZoomControlView",
            "options": [
              "position",
              "zoom_in_text",
              "zoom_in_title",
              "zoom_out_text",
              "zoom_out_title"
            ],
            "position": "topleft",
            "zoom_in_text": "+",
            "zoom_in_title": "Zoom in",
            "zoom_out_text": "-",
            "zoom_out_title": "Zoom out"
          }
        },
        "3d18b94ec7d34a669065601955b12130": {
          "model_module": "jupyter-leaflet",
          "model_name": "LeafletFullScreenControlModel",
          "model_module_version": "^0.18",
          "state": {
            "_model_module": "jupyter-leaflet",
            "_model_module_version": "^0.18",
            "_model_name": "LeafletFullScreenControlModel",
            "_view_count": null,
            "_view_module": "jupyter-leaflet",
            "_view_module_version": "^0.18",
            "_view_name": "LeafletFullScreenControlView",
            "options": [
              "position"
            ],
            "position": "topleft"
          }
        },
        "8c438886d48440ecb1bfb85d5e025257": {
          "model_module": "jupyter-leaflet",
          "model_name": "LeafletDrawControlModel",
          "model_module_version": "^0.18",
          "state": {
            "_model_module": "jupyter-leaflet",
            "_model_module_version": "^0.18",
            "_model_name": "LeafletDrawControlModel",
            "_view_count": null,
            "_view_module": "jupyter-leaflet",
            "_view_module_version": "^0.18",
            "_view_name": "LeafletDrawControlView",
            "circle": {},
            "circlemarker": {},
            "data": [],
            "edit": true,
            "marker": {
              "shapeOptions": {
                "color": "#3388ff"
              }
            },
            "options": [
              "position"
            ],
            "polygon": {
              "shapeOptions": {}
            },
            "polyline": {
              "shapeOptions": {}
            },
            "position": "topleft",
            "rectangle": {
              "shapeOptions": {
                "color": "#3388ff"
              }
            },
            "remove": true
          }
        },
        "8ced83ae661d4442a120f9cc0f9923cd": {
          "model_module": "jupyter-leaflet",
          "model_name": "LeafletScaleControlModel",
          "model_module_version": "^0.18",
          "state": {
            "_model_module": "jupyter-leaflet",
            "_model_module_version": "^0.18",
            "_model_name": "LeafletScaleControlModel",
            "_view_count": null,
            "_view_module": "jupyter-leaflet",
            "_view_module_version": "^0.18",
            "_view_name": "LeafletScaleControlView",
            "imperial": true,
            "max_width": 100,
            "metric": true,
            "options": [
              "imperial",
              "max_width",
              "metric",
              "position",
              "update_when_idle"
            ],
            "position": "bottomleft",
            "update_when_idle": false
          }
        },
        "b3ebdd0046b642c4936640e342b5d4a4": {
          "model_module": "jupyter-leaflet",
          "model_name": "LeafletMeasureControlModel",
          "model_module_version": "^0.18",
          "state": {
            "_custom_units": {},
            "_model_module": "jupyter-leaflet",
            "_model_module_version": "^0.18",
            "_model_name": "LeafletMeasureControlModel",
            "_view_count": null,
            "_view_module": "jupyter-leaflet",
            "_view_module_version": "^0.18",
            "_view_name": "LeafletMeasureControlView",
            "active_color": "orange",
            "capture_z_index": 10000,
            "completed_color": "#C8F2BE",
            "options": [
              "active_color",
              "capture_z_index",
              "completed_color",
              "popup_options",
              "position",
              "primary_area_unit",
              "primary_length_unit",
              "secondary_area_unit",
              "secondary_length_unit"
            ],
            "popup_options": {
              "className": "leaflet-measure-resultpopup",
              "autoPanPadding": [
                10,
                10
              ]
            },
            "position": "bottomleft",
            "primary_area_unit": "acres",
            "primary_length_unit": "kilometers",
            "secondary_area_unit": null,
            "secondary_length_unit": null
          }
        },
        "81455e2a6acd4098a36b7c3077d1e861": {
          "model_module": "jupyter-leaflet",
          "model_name": "LeafletWidgetControlModel",
          "model_module_version": "^0.18",
          "state": {
            "_model_module": "jupyter-leaflet",
            "_model_module_version": "^0.18",
            "_model_name": "LeafletWidgetControlModel",
            "_view_count": null,
            "_view_module": "jupyter-leaflet",
            "_view_module_version": "^0.18",
            "_view_name": "LeafletWidgetControlView",
            "max_height": null,
            "max_width": null,
            "min_height": null,
            "min_width": null,
            "options": [
              "position",
              "transparent_bg"
            ],
            "position": "topright",
            "transparent_bg": false,
            "widget": "IPY_MODEL_b35f7f7368104e75a8b08ab1a2118e8c"
          }
        },
        "a634df0ce8b94f239102b94fc74d8307": {
          "model_module": "jupyter-leaflet",
          "model_name": "LeafletAttributionControlModel",
          "model_module_version": "^0.18",
          "state": {
            "_model_module": "jupyter-leaflet",
            "_model_module_version": "^0.18",
            "_model_name": "LeafletAttributionControlModel",
            "_view_count": null,
            "_view_module": "jupyter-leaflet",
            "_view_module_version": "^0.18",
            "_view_name": "LeafletAttributionControlView",
            "options": [
              "position",
              "prefix"
            ],
            "position": "bottomright",
            "prefix": "ipyleaflet"
          }
        },
        "01ef9c20c06e4ff1851decb63ff6eb9b": {
          "model_module": "jupyter-leaflet",
          "model_name": "LeafletMapStyleModel",
          "model_module_version": "^0.18",
          "state": {
            "_model_module": "jupyter-leaflet",
            "_model_module_version": "^0.18",
            "_model_name": "LeafletMapStyleModel",
            "_view_count": null,
            "_view_module": "@jupyter-widgets/base",
            "_view_module_version": "1.2.0",
            "_view_name": "StyleView",
            "cursor": "grab"
          }
        },
        "17e4bae78fb54f528dacce9d6a65f680": {
          "model_module": "jupyter-leaflet",
          "model_name": "LeafletMapStyleModel",
          "model_module_version": "^0.18",
          "state": {
            "_model_module": "jupyter-leaflet",
            "_model_module_version": "^0.18",
            "_model_name": "LeafletMapStyleModel",
            "_view_count": null,
            "_view_module": "@jupyter-widgets/base",
            "_view_module_version": "1.2.0",
            "_view_name": "StyleView",
            "cursor": "move"
          }
        },
        "7dc95620bea14e24ae1ad39482250e84": {
          "model_module": "jupyter-leaflet",
          "model_name": "LeafletTileLayerModel",
          "model_module_version": "^0.18",
          "state": {
            "_model_module": "jupyter-leaflet",
            "_model_module_version": "^0.18",
            "_model_name": "LeafletTileLayerModel",
            "_view_count": null,
            "_view_module": "jupyter-leaflet",
            "_view_module_version": "^0.18",
            "_view_name": "LeafletTileLayerView",
            "attribution": "&copy; <a href=\"https://www.openstreetmap.org/copyright\">OpenStreetMap</a> contributors",
            "base": true,
            "bottom": true,
            "bounds": null,
            "detect_retina": false,
            "loading": true,
            "max_native_zoom": null,
            "max_zoom": 19,
            "min_native_zoom": null,
            "min_zoom": 1,
            "name": "OpenStreetMap.Mapnik",
            "no_wrap": false,
            "opacity": 1,
            "options": [
              "attribution",
              "bounds",
              "detect_retina",
              "max_native_zoom",
              "max_zoom",
              "min_native_zoom",
              "min_zoom",
              "no_wrap",
              "tile_size",
              "tms",
              "zoom_offset"
            ],
            "pane": "",
            "popup": null,
            "popup_max_height": null,
            "popup_max_width": 300,
            "popup_min_width": 50,
            "show_loading": false,
            "subitems": [],
            "tile_size": 256,
            "tms": false,
            "url": "https://tile.openstreetmap.org/{z}/{x}/{y}.png",
            "visible": true,
            "zoom_offset": 0
          }
        },
        "8e7e757ec0d84ae9be5f2c62bfe116c6": {
          "model_module": "jupyter-leaflet",
          "model_name": "LeafletTileLayerModel",
          "model_module_version": "^0.18",
          "state": {
            "_model_module": "jupyter-leaflet",
            "_model_module_version": "^0.18",
            "_model_name": "LeafletTileLayerModel",
            "_view_count": null,
            "_view_module": "jupyter-leaflet",
            "_view_module_version": "^0.18",
            "_view_name": "LeafletTileLayerView",
            "attribution": "Google Earth Engine",
            "base": false,
            "bottom": true,
            "bounds": null,
            "detect_retina": false,
            "loading": true,
            "max_native_zoom": null,
            "max_zoom": 24,
            "min_native_zoom": null,
            "min_zoom": 0,
            "name": "gez_2010_level1",
            "no_wrap": false,
            "opacity": 1,
            "options": [
              "attribution",
              "bounds",
              "detect_retina",
              "max_native_zoom",
              "max_zoom",
              "min_native_zoom",
              "min_zoom",
              "no_wrap",
              "tile_size",
              "tms",
              "zoom_offset"
            ],
            "pane": "",
            "popup": null,
            "popup_max_height": null,
            "popup_max_width": 300,
            "popup_min_width": 50,
            "show_loading": false,
            "subitems": [],
            "tile_size": 256,
            "tms": false,
            "url": "https://earthengine.googleapis.com/v1/projects/ee-andyarnellgee/maps/43f226e20b54550c1029928ff37dfbf6-5c3ff120cdc098bee10190d5079d6c0e/tiles/{z}/{x}/{y}",
            "visible": true,
            "zoom_offset": 0
          }
        },
        "cf7daac24f7c4faeae37625517e16fb3": {
          "model_module": "jupyter-leaflet",
          "model_name": "LeafletTileLayerModel",
          "model_module_version": "^0.18",
          "state": {
            "_model_module": "jupyter-leaflet",
            "_model_module_version": "^0.18",
            "_model_name": "LeafletTileLayerModel",
            "_view_count": null,
            "_view_module": "jupyter-leaflet",
            "_view_module_version": "^0.18",
            "_view_name": "LeafletTileLayerView",
            "attribution": "Google Earth Engine",
            "base": false,
            "bottom": true,
            "bounds": null,
            "detect_retina": false,
            "loading": true,
            "max_native_zoom": null,
            "max_zoom": 24,
            "min_native_zoom": null,
            "min_zoom": 0,
            "name": "Worldclim Köppen-Trewartha Climate Zones",
            "no_wrap": false,
            "opacity": 1,
            "options": [
              "attribution",
              "bounds",
              "detect_retina",
              "max_native_zoom",
              "max_zoom",
              "min_native_zoom",
              "min_zoom",
              "no_wrap",
              "tile_size",
              "tms",
              "zoom_offset"
            ],
            "pane": "",
            "popup": null,
            "popup_max_height": null,
            "popup_max_width": 300,
            "popup_min_width": 50,
            "show_loading": false,
            "subitems": [],
            "tile_size": 256,
            "tms": false,
            "url": "https://earthengine.googleapis.com/v1/projects/ee-andyarnellgee/maps/eb1acbec29b7479a508affb21bfdfeec-b2787d43491b688fb1fe95d71da897cd/tiles/{z}/{x}/{y}",
            "visible": true,
            "zoom_offset": 0
          }
        },
        "7b2360bce6f64fe8af4a0efa164f4498": {
          "model_module": "jupyter-leaflet",
          "model_name": "LeafletTileLayerModel",
          "model_module_version": "^0.18",
          "state": {
            "_model_module": "jupyter-leaflet",
            "_model_module_version": "^0.18",
            "_model_name": "LeafletTileLayerModel",
            "_view_count": null,
            "_view_module": "jupyter-leaflet",
            "_view_module_version": "^0.18",
            "_view_name": "LeafletTileLayerView",
            "attribution": "Google Earth Engine",
            "base": false,
            "bottom": true,
            "bounds": null,
            "detect_retina": false,
            "loading": true,
            "max_native_zoom": null,
            "max_zoom": 24,
            "min_native_zoom": null,
            "min_zoom": 0,
            "name": "Chelsa Köppen-Trewartha Climate Zones",
            "no_wrap": false,
            "opacity": 1,
            "options": [
              "attribution",
              "bounds",
              "detect_retina",
              "max_native_zoom",
              "max_zoom",
              "min_native_zoom",
              "min_zoom",
              "no_wrap",
              "tile_size",
              "tms",
              "zoom_offset"
            ],
            "pane": "",
            "popup": null,
            "popup_max_height": null,
            "popup_max_width": 300,
            "popup_min_width": 50,
            "show_loading": false,
            "subitems": [],
            "tile_size": 256,
            "tms": false,
            "url": "https://earthengine.googleapis.com/v1/projects/ee-andyarnellgee/maps/3597d14642aab57be58e35c932b178ff-097e0407da877baa8d6fd0bc9b966a44/tiles/{z}/{x}/{y}",
            "visible": true,
            "zoom_offset": 0
          }
        },
        "77354b97dfc54b13850029c0640cd117": {
          "model_module": "@jupyter-widgets/base",
          "model_name": "LayoutModel",
          "model_module_version": "1.2.0",
          "state": {
            "_model_module": "@jupyter-widgets/base",
            "_model_module_version": "1.2.0",
            "_model_name": "LayoutModel",
            "_view_count": null,
            "_view_module": "@jupyter-widgets/base",
            "_view_module_version": "1.2.0",
            "_view_name": "LayoutView",
            "align_content": null,
            "align_items": null,
            "align_self": null,
            "border": null,
            "bottom": null,
            "display": null,
            "flex": null,
            "flex_flow": null,
            "grid_area": null,
            "grid_auto_columns": null,
            "grid_auto_flow": null,
            "grid_auto_rows": null,
            "grid_column": null,
            "grid_gap": null,
            "grid_row": null,
            "grid_template_areas": null,
            "grid_template_columns": null,
            "grid_template_rows": null,
            "height": "600px",
            "justify_content": null,
            "justify_items": null,
            "left": null,
            "margin": null,
            "max_height": null,
            "max_width": null,
            "min_height": null,
            "min_width": null,
            "object_fit": null,
            "object_position": null,
            "order": null,
            "overflow": null,
            "overflow_x": null,
            "overflow_y": null,
            "padding": null,
            "right": null,
            "top": null,
            "visibility": null,
            "width": null
          }
        },
        "46adabd4738341dc8f6a94d79450235a": {
          "model_module": "jupyter-leaflet",
          "model_name": "LeafletMapStyleModel",
          "model_module_version": "^0.18",
          "state": {
            "_model_module": "jupyter-leaflet",
            "_model_module_version": "^0.18",
            "_model_name": "LeafletMapStyleModel",
            "_view_count": null,
            "_view_module": "@jupyter-widgets/base",
            "_view_module_version": "1.2.0",
            "_view_name": "StyleView",
            "cursor": "grab"
          }
        },
        "9d3956134abf4eb6aafb5fb5e466e74a": {
          "model_module": "@jupyter-widgets/controls",
          "model_name": "HBoxModel",
          "model_module_version": "1.5.0",
          "state": {
            "_dom_classes": [
              "geemap-colab"
            ],
            "_model_module": "@jupyter-widgets/controls",
            "_model_module_version": "1.5.0",
            "_model_name": "HBoxModel",
            "_view_count": null,
            "_view_module": "@jupyter-widgets/controls",
            "_view_module_version": "1.5.0",
            "_view_name": "HBoxView",
            "box_style": "",
            "children": [
              "IPY_MODEL_b0e1bd85453e4641b9a1cdaecd7dcbce"
            ],
            "layout": "IPY_MODEL_ca97360eca9844fea48a73b5e87142d2"
          }
        },
        "b35f7f7368104e75a8b08ab1a2118e8c": {
          "model_module": "@jupyter-widgets/controls",
          "model_name": "VBoxModel",
          "model_module_version": "1.5.0",
          "state": {
            "_dom_classes": [
              "geemap-colab"
            ],
            "_model_module": "@jupyter-widgets/controls",
            "_model_module_version": "1.5.0",
            "_model_name": "VBoxModel",
            "_view_count": null,
            "_view_module": "@jupyter-widgets/controls",
            "_view_module_version": "1.5.0",
            "_view_name": "VBoxView",
            "box_style": "",
            "children": [
              "IPY_MODEL_f62e89d015c94278b43c254f2a03a166"
            ],
            "layout": "IPY_MODEL_b6766e430f824c8fa07a5ec37d7acfa9"
          }
        },
        "b0e1bd85453e4641b9a1cdaecd7dcbce": {
          "model_module": "@jupyter-widgets/controls",
          "model_name": "ToggleButtonModel",
          "model_module_version": "1.5.0",
          "state": {
            "_dom_classes": [],
            "_model_module": "@jupyter-widgets/controls",
            "_model_module_version": "1.5.0",
            "_model_name": "ToggleButtonModel",
            "_view_count": null,
            "_view_module": "@jupyter-widgets/controls",
            "_view_module_version": "1.5.0",
            "_view_name": "ToggleButtonView",
            "button_style": "",
            "description": "",
            "description_tooltip": null,
            "disabled": false,
            "icon": "globe",
            "layout": "IPY_MODEL_e3901963e06e4f7d80527cac099ce9ea",
            "style": "IPY_MODEL_39f9a5487ced403882350593c7777d09",
            "tooltip": "Search location/data",
            "value": false
          }
        },
        "ca97360eca9844fea48a73b5e87142d2": {
          "model_module": "@jupyter-widgets/base",
          "model_name": "LayoutModel",
          "model_module_version": "1.2.0",
          "state": {
            "_model_module": "@jupyter-widgets/base",
            "_model_module_version": "1.2.0",
            "_model_name": "LayoutModel",
            "_view_count": null,
            "_view_module": "@jupyter-widgets/base",
            "_view_module_version": "1.2.0",
            "_view_name": "LayoutView",
            "align_content": null,
            "align_items": null,
            "align_self": null,
            "border": null,
            "bottom": null,
            "display": null,
            "flex": null,
            "flex_flow": null,
            "grid_area": null,
            "grid_auto_columns": null,
            "grid_auto_flow": null,
            "grid_auto_rows": null,
            "grid_column": null,
            "grid_gap": null,
            "grid_row": null,
            "grid_template_areas": null,
            "grid_template_columns": null,
            "grid_template_rows": null,
            "height": null,
            "justify_content": null,
            "justify_items": null,
            "left": null,
            "margin": null,
            "max_height": null,
            "max_width": null,
            "min_height": null,
            "min_width": null,
            "object_fit": null,
            "object_position": null,
            "order": null,
            "overflow": null,
            "overflow_x": null,
            "overflow_y": null,
            "padding": null,
            "right": null,
            "top": null,
            "visibility": null,
            "width": null
          }
        },
        "f62e89d015c94278b43c254f2a03a166": {
          "model_module": "@jupyter-widgets/controls",
          "model_name": "ToggleButtonModel",
          "model_module_version": "1.5.0",
          "state": {
            "_dom_classes": [],
            "_model_module": "@jupyter-widgets/controls",
            "_model_module_version": "1.5.0",
            "_model_name": "ToggleButtonModel",
            "_view_count": null,
            "_view_module": "@jupyter-widgets/controls",
            "_view_module_version": "1.5.0",
            "_view_name": "ToggleButtonView",
            "button_style": "",
            "description": "",
            "description_tooltip": null,
            "disabled": false,
            "icon": "wrench",
            "layout": "IPY_MODEL_405381d292f64fa6a50441c166da4365",
            "style": "IPY_MODEL_1313eb8617a54804925e207797341ba5",
            "tooltip": "Toolbar",
            "value": false
          }
        },
        "b6766e430f824c8fa07a5ec37d7acfa9": {
          "model_module": "@jupyter-widgets/base",
          "model_name": "LayoutModel",
          "model_module_version": "1.2.0",
          "state": {
            "_model_module": "@jupyter-widgets/base",
            "_model_module_version": "1.2.0",
            "_model_name": "LayoutModel",
            "_view_count": null,
            "_view_module": "@jupyter-widgets/base",
            "_view_module_version": "1.2.0",
            "_view_name": "LayoutView",
            "align_content": null,
            "align_items": null,
            "align_self": null,
            "border": null,
            "bottom": null,
            "display": null,
            "flex": null,
            "flex_flow": null,
            "grid_area": null,
            "grid_auto_columns": null,
            "grid_auto_flow": null,
            "grid_auto_rows": null,
            "grid_column": null,
            "grid_gap": null,
            "grid_row": null,
            "grid_template_areas": null,
            "grid_template_columns": null,
            "grid_template_rows": null,
            "height": null,
            "justify_content": null,
            "justify_items": null,
            "left": null,
            "margin": null,
            "max_height": null,
            "max_width": null,
            "min_height": null,
            "min_width": null,
            "object_fit": null,
            "object_position": null,
            "order": null,
            "overflow": null,
            "overflow_x": null,
            "overflow_y": null,
            "padding": null,
            "right": null,
            "top": null,
            "visibility": null,
            "width": null
          }
        },
        "e3901963e06e4f7d80527cac099ce9ea": {
          "model_module": "@jupyter-widgets/base",
          "model_name": "LayoutModel",
          "model_module_version": "1.2.0",
          "state": {
            "_model_module": "@jupyter-widgets/base",
            "_model_module_version": "1.2.0",
            "_model_name": "LayoutModel",
            "_view_count": null,
            "_view_module": "@jupyter-widgets/base",
            "_view_module_version": "1.2.0",
            "_view_name": "LayoutView",
            "align_content": null,
            "align_items": null,
            "align_self": null,
            "border": null,
            "bottom": null,
            "display": null,
            "flex": null,
            "flex_flow": null,
            "grid_area": null,
            "grid_auto_columns": null,
            "grid_auto_flow": null,
            "grid_auto_rows": null,
            "grid_column": null,
            "grid_gap": null,
            "grid_row": null,
            "grid_template_areas": null,
            "grid_template_columns": null,
            "grid_template_rows": null,
            "height": "28px",
            "justify_content": null,
            "justify_items": null,
            "left": null,
            "margin": null,
            "max_height": null,
            "max_width": null,
            "min_height": null,
            "min_width": null,
            "object_fit": null,
            "object_position": null,
            "order": null,
            "overflow": null,
            "overflow_x": null,
            "overflow_y": null,
            "padding": "0px 0px 0px 4px",
            "right": null,
            "top": null,
            "visibility": null,
            "width": "28px"
          }
        },
        "39f9a5487ced403882350593c7777d09": {
          "model_module": "@jupyter-widgets/controls",
          "model_name": "DescriptionStyleModel",
          "model_module_version": "1.5.0",
          "state": {
            "_model_module": "@jupyter-widgets/controls",
            "_model_module_version": "1.5.0",
            "_model_name": "DescriptionStyleModel",
            "_view_count": null,
            "_view_module": "@jupyter-widgets/base",
            "_view_module_version": "1.2.0",
            "_view_name": "StyleView",
            "description_width": ""
          }
        },
        "405381d292f64fa6a50441c166da4365": {
          "model_module": "@jupyter-widgets/base",
          "model_name": "LayoutModel",
          "model_module_version": "1.2.0",
          "state": {
            "_model_module": "@jupyter-widgets/base",
            "_model_module_version": "1.2.0",
            "_model_name": "LayoutModel",
            "_view_count": null,
            "_view_module": "@jupyter-widgets/base",
            "_view_module_version": "1.2.0",
            "_view_name": "LayoutView",
            "align_content": null,
            "align_items": null,
            "align_self": null,
            "border": null,
            "bottom": null,
            "display": null,
            "flex": null,
            "flex_flow": null,
            "grid_area": null,
            "grid_auto_columns": null,
            "grid_auto_flow": null,
            "grid_auto_rows": null,
            "grid_column": null,
            "grid_gap": null,
            "grid_row": null,
            "grid_template_areas": null,
            "grid_template_columns": null,
            "grid_template_rows": null,
            "height": "28px",
            "justify_content": null,
            "justify_items": null,
            "left": null,
            "margin": null,
            "max_height": null,
            "max_width": null,
            "min_height": null,
            "min_width": null,
            "object_fit": null,
            "object_position": null,
            "order": null,
            "overflow": null,
            "overflow_x": null,
            "overflow_y": null,
            "padding": "0px 0px 0px 4px",
            "right": null,
            "top": null,
            "visibility": null,
            "width": "28px"
          }
        },
        "1313eb8617a54804925e207797341ba5": {
          "model_module": "@jupyter-widgets/controls",
          "model_name": "DescriptionStyleModel",
          "model_module_version": "1.5.0",
          "state": {
            "_model_module": "@jupyter-widgets/controls",
            "_model_module_version": "1.5.0",
            "_model_name": "DescriptionStyleModel",
            "_view_count": null,
            "_view_module": "@jupyter-widgets/base",
            "_view_module_version": "1.2.0",
            "_view_name": "StyleView",
            "description_width": ""
          }
        }
      }
    }
  },
  "cells": [
    {
      "cell_type": "markdown",
      "metadata": {
        "id": "view-in-github",
        "colab_type": "text"
      },
      "source": [
        "<a href=\"https://colab.research.google.com/github/andyarnell/Global_ecological_zones_mapping/blob/main/gez_comparison_sankey.ipynb\" target=\"_parent\"><img src=\"https://colab.research.google.com/assets/colab-badge.svg\" alt=\"Open In Colab\"/></a>"
      ]
    },
    {
      "cell_type": "markdown",
      "source": [
        "### Aim: create Sankey plots to illustrate magnitude of climate zone changes to help compare GEZ update options"
      ],
      "metadata": {
        "id": "uDxNsLizmabI"
      }
    },
    {
      "cell_type": "code",
      "source": [
        "# Change the current working directory to \"/content\".\n",
        "%cd \"/content\"\n",
        "\n",
        "# Clone the GitHub repository \"sepal_mgci\" into the current directory.\n",
        "# NB 'fatal' error on reruns are typically just saying it already exists\n",
        "!git clone https://github.com/andyarnell/sankee.git"
      ],
      "metadata": {
        "id": "_1F7JeGdLzkG",
        "outputId": "455b48e9-9a8c-4163-c0e4-2abc07debfe6",
        "colab": {
          "base_uri": "https://localhost:8080/"
        }
      },
      "execution_count": 1,
      "outputs": [
        {
          "output_type": "stream",
          "name": "stdout",
          "text": [
            "/content\n",
            "Cloning into 'sankee'...\n",
            "remote: Enumerating objects: 1107, done.\u001b[K\n",
            "remote: Counting objects: 100% (346/346), done.\u001b[K\n",
            "remote: Compressing objects: 100% (113/113), done.\u001b[K\n",
            "remote: Total 1107 (delta 244), reused 308 (delta 229), pack-reused 761\u001b[K\n",
            "Receiving objects: 100% (1107/1107), 15.30 MiB | 12.81 MiB/s, done.\n",
            "Resolving deltas: 100% (649/649), done.\n"
          ]
        }
      ]
    },
    {
      "cell_type": "code",
      "execution_count": 2,
      "metadata": {
        "colab": {
          "base_uri": "https://localhost:8080/",
          "height": 106
        },
        "id": "0rZEiP5dcQ15",
        "outputId": "238cbd60-7731-43e5-a5f2-c9a34412a6a9"
      },
      "outputs": [
        {
          "output_type": "stream",
          "name": "stdout",
          "text": [
            "os is already installed.\n",
            "/\n",
            "['lib', 'srv', 'var', 'sys', 'home', 'root', 'dev', 'boot', 'lib32', 'run', 'sbin', 'etc', 'usr', 'opt', 'tmp', 'mnt', 'media', 'libx32', 'bin', 'lib64', 'proc', 'kaggle', 'content', '.dockerenv', 'datalab', 'tools', 'NGC-DL-CONTAINER-LICENSE', 'cuda-keyring_1.0-1_all.deb']\n",
            "/content/sankee\n"
          ]
        }
      ],
      "source": [
        "# to automatically reload modules.\n",
        "%load_ext autoreload\n",
        "\n",
        "# Set to reload all modules before executing code.\n",
        "%autoreload 2\n",
        "\n",
        "\n",
        "# Function to install a package if it's not already installed\n",
        "def install_if_not_exists(package_name):\n",
        "    try:\n",
        "        __import__(package_name)\n",
        "        print(f\"{package_name} is already installed.\")\n",
        "    except ImportError:\n",
        "        !pip install -q {package_name}\n",
        "        print(f\"{package_name} has been installed.\")\n",
        "\n",
        "# install_if_not_exists(\"sankee\")\n",
        "install_if_not_exists(\"os\")\n",
        "\n",
        "import os\n",
        "\n",
        "%cd ..\n",
        "\n",
        "print(os.listdir())\n",
        "\n",
        "import sys\n",
        "\n",
        "%cd \"/content/sankee\"\n",
        "\n",
        "import sankee\n",
        "\n",
        "import ee # google earth engine\n",
        "\n",
        "import geemap\n",
        "\n",
        "from google.colab import output\n",
        "\n",
        "output.enable_custom_widget_manager()\n",
        "\n",
        "gee_project_name = \"ee-andyarnellgee\"\n",
        "\n",
        "ee.Authenticate()\n",
        "\n",
        "ee.Initialize(project=gee_project_name)\n",
        "\n",
        "# # # Generate the Sankey diagram from the two images\n",
        "# sankee.sankify(title=title,\n",
        "#     image_list=image_list,\n",
        "#     region=aoi.geometry().bounds(),\n",
        "#     band=band,\n",
        "#     labels=labels,\n",
        "#     palette=palette,\n",
        "#     scale=scale,\n",
        "#     n=2000,\n",
        "#     seed=0\n",
        "# )\n"
      ]
    },
    {
      "cell_type": "code",
      "source": [
        "chelsa_climate_1981_2010 = ee.ImageCollection(\"projects/ee-andyarnellgee/assets/p0001_global_ecological_zones_update/raw/chelsa_tas_1981_2010\");\n",
        "chelsa_pet = ee.Image(\"projects/ee-andyarnellgee/assets/p0001_global_ecological_zones_update/raw/chelsa_pet_penman_mean_1981-2010_V_2_1\");\n",
        "worldclim_climate = ee.ImageCollection(\"WORLDCLIM/V1/MONTHLY\");\n",
        "terraclimate = ee.ImageCollection(\"IDAHO_EPSCOR/TERRACLIMATE\");\n",
        "mountain_belts = ee.Image(\"users/xavidelamo/SDG1542_Mntn_BioclimaticBelts\");\n",
        "hzl_contemp = ee.Image(\"projects/ee-andyarnellgee/assets/p0001_global_ecological_zones_update/raw/life_zones_contemporary\");\n",
        "# admin = ee.FeatureCollection(\"FAO/GAUL_SIMPLIFIED_500m/2015/level0\");\n",
        "# table = ee.FeatureCollection(\"USDOS/LSIB_SIMPLE/2017\");"
      ],
      "metadata": {
        "colab": {
          "base_uri": "https://localhost:8080/",
          "height": 17
        },
        "id": "ZYQjGxnklfaI",
        "outputId": "2e008e4d-3a77-4078-97cc-c110a573d2e1"
      },
      "execution_count": 3,
      "outputs": [
        {
          "output_type": "display_data",
          "data": {
            "text/plain": [
              "<IPython.core.display.HTML object>"
            ],
            "text/html": [
              "\n",
              "            <style>\n",
              "                .geemap-dark {\n",
              "                    --jp-widgets-color: white;\n",
              "                    --jp-widgets-label-color: white;\n",
              "                    --jp-ui-font-color1: white;\n",
              "                    --jp-layout-color2: #454545;\n",
              "                    background-color: #383838;\n",
              "                }\n",
              "\n",
              "                .geemap-dark .jupyter-button {\n",
              "                    --jp-layout-color3: #383838;\n",
              "                }\n",
              "\n",
              "                .geemap-colab {\n",
              "                    background-color: var(--colab-primary-surface-color, white);\n",
              "                }\n",
              "\n",
              "                .geemap-colab .jupyter-button {\n",
              "                    --jp-layout-color3: var(--colab-primary-surface-color, white);\n",
              "                }\n",
              "            </style>\n",
              "            "
            ]
          },
          "metadata": {}
        }
      ]
    },
    {
      "cell_type": "code",
      "source": [
        "import ee\n",
        "\n",
        "# Initialize the Earth Engine module\n",
        "ee.Initialize()\n",
        "\n",
        "# Function to calculate number of months above a temperature threshold\n",
        "def calc_number_of_months_above(monthly_image_col, band_name_tavg, temp_threshold):\n",
        "    def map_threshold(image):\n",
        "        image_tavg = image.select(band_name_tavg)\n",
        "        image_gte_thresh = image_tavg.gte(temp_threshold)\n",
        "        return image_gte_thresh\n",
        "\n",
        "    monthly_image_col_tavg = monthly_image_col.select(band_name_tavg)\n",
        "    monthly_image_col_tavg_gte_thresh = monthly_image_col_tavg.map(map_threshold)\n",
        "    count_of_months_above = monthly_image_col_tavg_gte_thresh.sum()\n",
        "    return count_of_months_above\n",
        "\n",
        "# Function to classify Köppen-Trewartha climate zones\n",
        "def classify_koppen_trewartha(monthly_image_col, band_name_tavg, prec_avg, pet_avg, high_thresh, low_thresh):\n",
        "    # Calculate number of months above 18 degrees and 10 degrees\n",
        "    number_of_months_above_18_degrees = calc_number_of_months_above(monthly_image_col, band_name_tavg, high_thresh)\n",
        "    number_of_months_above_10_degrees = calc_number_of_months_above(monthly_image_col, band_name_tavg, low_thresh)\n",
        "\n",
        "    # Define Köppen-Trewartha rules\n",
        "    threshold_18_deg = 12  # standard kt val :12 (but for toggling to get similar to GEZ level 1, 8 is closer!)\n",
        "    high_threshold_10_deg = 8  # standard kt val :8\n",
        "    middle_threshold_10_deg = 4  # standard kt val :4\n",
        "    low_threshold_10_deg = 1  # standard kt val : 1\n",
        "\n",
        "    # Define Köppen-Trewartha rules\n",
        "    tropical = number_of_months_above_18_degrees.gte(threshold_18_deg)\n",
        "    subtropical = number_of_months_above_10_degrees.gte(high_threshold_10_deg).And(number_of_months_above_18_degrees.lt(threshold_18_deg))\n",
        "    temperate = number_of_months_above_10_degrees.gte(middle_threshold_10_deg).And(number_of_months_above_10_degrees.lt(high_threshold_10_deg))\n",
        "    boreal = number_of_months_above_10_degrees.gte(low_threshold_10_deg).And(number_of_months_above_10_degrees.lt(middle_threshold_10_deg))\n",
        "    polar = number_of_months_above_10_degrees.lt(low_threshold_10_deg)\n",
        "\n",
        "    # Combine rules to create zones\n",
        "    koppenTrewarthaZones = ee.Image(0) \\\n",
        "        .where(tropical, 1) \\\n",
        "        .where(subtropical, 2) \\\n",
        "        .where(temperate, 3) \\\n",
        "        .where(boreal, 4) \\\n",
        "        .where(polar, 5) \\\n",
        "        .selfMask()\n",
        "\n",
        "    # Return the image with Köppen-Trewartha zones\n",
        "    return koppenTrewarthaZones.rename('koppen_trewartha')\n",
        "\n",
        "\n",
        "\n",
        "# Data prep\n",
        "\n",
        "# Potential evapotranspiration\n",
        "terraclimate_pet_avg = terraclimate.select('pet').filter(ee.Filter.date('1960-01-01', '1991-01-01')).mean()\n",
        "\n",
        "# Precipitation\n",
        "worldclim_climate_prec_avg = worldclim_climate.select('prec').mean()\n",
        "\n",
        "# Mountains\n",
        "mountains = mountain_belts.gt(1)\n",
        "\n",
        "# Analysis\n",
        "# Apply classify_koppen_trewartha function to worldclim\n",
        "worldclim_koppen_trewartha = classify_koppen_trewartha(worldclim_climate,\n",
        "                                                      'tavg',\n",
        "                                                      worldclim_climate_prec_avg,\n",
        "                                                      terraclimate_pet_avg,  # as not included in worldclim\n",
        "                                                      180,\n",
        "                                                      100)\n",
        "\n",
        "# Apply classify_koppen_trewartha function to chelsa\n",
        "chelsa_koppen_trewartha = classify_koppen_trewartha(chelsa_climate_1981_2010,\n",
        "                                                      'b1',\n",
        "                                                      worldclim_climate_prec_avg,  # using for temp interim\n",
        "                                                      chelsa_pet,\n",
        "                                                      18,\n",
        "                                                      10)\n",
        "\n",
        "# Mask to terrestrial areas (based on worldclim extent for now)\n",
        "chelsa_koppen_trewartha = chelsa_koppen_trewartha.updateMask(worldclim_koppen_trewartha.gt(0))\n",
        "\n",
        "# Make a version with mountains included (based on an asset used for reporting mountain green cover index)\n",
        "chelsa_koppen_trewartha_w_mountains = chelsa_koppen_trewartha.where(mountains, 6)\n",
        "worldclim_koppen_trewartha_w_mountains = worldclim_koppen_trewartha.where(mountains, 6)\n"
      ],
      "metadata": {
        "colab": {
          "base_uri": "https://localhost:8080/",
          "height": 17
        },
        "id": "kR8QDcLJl5u2",
        "outputId": "e3fe3c84-152d-446d-99ad-06f13f3b0dba"
      },
      "execution_count": 4,
      "outputs": [
        {
          "output_type": "display_data",
          "data": {
            "text/plain": [
              "<IPython.core.display.HTML object>"
            ],
            "text/html": [
              "\n",
              "            <style>\n",
              "                .geemap-dark {\n",
              "                    --jp-widgets-color: white;\n",
              "                    --jp-widgets-label-color: white;\n",
              "                    --jp-ui-font-color1: white;\n",
              "                    --jp-layout-color2: #454545;\n",
              "                    background-color: #383838;\n",
              "                }\n",
              "\n",
              "                .geemap-dark .jupyter-button {\n",
              "                    --jp-layout-color3: #383838;\n",
              "                }\n",
              "\n",
              "                .geemap-colab {\n",
              "                    background-color: var(--colab-primary-surface-color, white);\n",
              "                }\n",
              "\n",
              "                .geemap-colab .jupyter-button {\n",
              "                    --jp-layout-color3: var(--colab-primary-surface-color, white);\n",
              "                }\n",
              "            </style>\n",
              "            "
            ]
          },
          "metadata": {}
        }
      ]
    },
    {
      "cell_type": "code",
      "source": [
        "# Load the existing GEZ data showing level 2\n",
        "gez_2010_level2 = ee.Image('users/bornToBeAlive/gez_2010_wgs84').selfMask()\n",
        "\n",
        "# Load the existing GEZ data showing level 1 (approximate climate zones)\n",
        "gez_2010_level1 = gez_2010_level2.divide(10).floor().int().selfMask()\n",
        "\n",
        "# Load the Holdridge Life Zones (adapted from Elsen et al 2022)\n",
        "hzl_contemp = ee.Image(\"Your_Holdridge_Life_Zones_Image\")  # Replace \"Your_Holdridge_Life_Zones_Image\" with the actual image asset ID\n",
        "\n",
        "# Create a simplified version of the Holdridge Life Zones to approximate GEZ level 1\n",
        "hzl_contemp_simple = hzl_contemp.divide(10).floor().int().selfMask()\n",
        "\n",
        "# Create a map\n",
        "Map = geemap.Map()\n",
        "\n",
        "# Add layers to the map\n",
        "# Map.addLayer(gez_2010_level2.randomVisualizer(), {}, \"gez_2010_level2\")\n",
        "Map.addLayer(gez_2010_level1.randomVisualizer(), {}, \"gez_2010_level1\")\n",
        "\n",
        "# Add data-driven zones based on climate datasets\n",
        "Map.addLayer(worldclim_koppen_trewartha.select('koppen_trewartha').randomVisualizer(),{},'Worldclim Köppen-Trewartha Climate Zones');\n",
        "\n",
        "Map.addLayer(chelsa_koppen_trewartha.select('koppen_trewartha').randomVisualizer(),{},'Chelsa Köppen-Trewartha Climate Zones');\n",
        "\n",
        "# Map.addLayer(hzl_contemp, {}, \"life zones contemporary - all\")\n",
        "# Map.addLayer(hzl_contemp_simple, {}, \"life zones contemporary - simple\")\n",
        "\n",
        "\n",
        "# # Load two images\n",
        "# aoi = ee.Geometry.Point([-122.30239918572622, 44.802882471354316]).buffer(5000000)\n",
        "\n",
        "# aoi = ee.Geometry.Polygon([xMin, yMin, xMax, yMax], None,False)\n",
        "world = ee.Geometry.Polygon([\n",
        "    [-180, 90], [0, 90], [180, 90],\n",
        "    [180,-90], [0, -90], [-180,-90]],\n",
        "    None, False);\n",
        "\n",
        "# aoi = world\n",
        "# Map.addLayer(aoi,{'color': 'FF0000'},\"aoi\")\n",
        "\n",
        "\n",
        "\n",
        "# Display the map\n",
        "Map\n"
      ],
      "metadata": {
        "colab": {
          "base_uri": "https://localhost:8080/",
          "height": 621,
          "referenced_widgets": [
            "67c07bf467574ce7aea5578bc5837898",
            "7aacef1eecc54aa4b76f69eaa33f31ec",
            "db4beb823f4542309d0e21b5110f8bf8",
            "3d18b94ec7d34a669065601955b12130",
            "8c438886d48440ecb1bfb85d5e025257",
            "8ced83ae661d4442a120f9cc0f9923cd",
            "b3ebdd0046b642c4936640e342b5d4a4",
            "81455e2a6acd4098a36b7c3077d1e861",
            "a634df0ce8b94f239102b94fc74d8307",
            "01ef9c20c06e4ff1851decb63ff6eb9b",
            "17e4bae78fb54f528dacce9d6a65f680",
            "7dc95620bea14e24ae1ad39482250e84",
            "8e7e757ec0d84ae9be5f2c62bfe116c6",
            "cf7daac24f7c4faeae37625517e16fb3",
            "7b2360bce6f64fe8af4a0efa164f4498",
            "77354b97dfc54b13850029c0640cd117",
            "46adabd4738341dc8f6a94d79450235a",
            "9d3956134abf4eb6aafb5fb5e466e74a",
            "b35f7f7368104e75a8b08ab1a2118e8c",
            "b0e1bd85453e4641b9a1cdaecd7dcbce",
            "ca97360eca9844fea48a73b5e87142d2",
            "f62e89d015c94278b43c254f2a03a166",
            "b6766e430f824c8fa07a5ec37d7acfa9",
            "e3901963e06e4f7d80527cac099ce9ea",
            "39f9a5487ced403882350593c7777d09",
            "405381d292f64fa6a50441c166da4365",
            "1313eb8617a54804925e207797341ba5"
          ]
        },
        "id": "hNZ8YTO0p-BP",
        "outputId": "98abfab2-61a1-4422-8fac-c6de202afd4f"
      },
      "execution_count": 5,
      "outputs": [
        {
          "output_type": "display_data",
          "data": {
            "text/plain": [
              "<IPython.core.display.HTML object>"
            ],
            "text/html": [
              "\n",
              "            <style>\n",
              "                .geemap-dark {\n",
              "                    --jp-widgets-color: white;\n",
              "                    --jp-widgets-label-color: white;\n",
              "                    --jp-ui-font-color1: white;\n",
              "                    --jp-layout-color2: #454545;\n",
              "                    background-color: #383838;\n",
              "                }\n",
              "\n",
              "                .geemap-dark .jupyter-button {\n",
              "                    --jp-layout-color3: #383838;\n",
              "                }\n",
              "\n",
              "                .geemap-colab {\n",
              "                    background-color: var(--colab-primary-surface-color, white);\n",
              "                }\n",
              "\n",
              "                .geemap-colab .jupyter-button {\n",
              "                    --jp-layout-color3: var(--colab-primary-surface-color, white);\n",
              "                }\n",
              "            </style>\n",
              "            "
            ]
          },
          "metadata": {}
        },
        {
          "output_type": "display_data",
          "data": {
            "text/plain": [
              "Map(center=[0, 0], controls=(WidgetControl(options=['position', 'transparent_bg'], widget=SearchDataGUI(childr…"
            ],
            "application/vnd.jupyter.widget-view+json": {
              "version_major": 2,
              "version_minor": 0,
              "model_id": "67c07bf467574ce7aea5578bc5837898"
            }
          },
          "metadata": {
            "application/vnd.jupyter.widget-view+json": {
              "colab": {
                "custom_widget_manager": {
                  "url": "https://ssl.gstatic.com/colaboratory-static/widgets/colab-cdn-widget-manager/2b70e893a8ba7c0f/manager.min.js"
                }
              }
            }
          }
        }
      ]
    },
    {
      "cell_type": "code",
      "source": [
        "gez = gez_2010_level1.select(0).rename(\"b1\")\n",
        "\n",
        "worldclim_kt = worldclim_koppen_trewartha.select(0).rename(\"b1\")\n",
        "\n",
        "chelsa_kt=chelsa_koppen_trewartha.select(0).rename(\"b1\")"
      ],
      "metadata": {
        "colab": {
          "base_uri": "https://localhost:8080/",
          "height": 17
        },
        "id": "qekdl3Pdpa_R",
        "outputId": "a1f08718-ecb3-4c61-fa66-80dd60116e8e"
      },
      "execution_count": 6,
      "outputs": [
        {
          "output_type": "display_data",
          "data": {
            "text/plain": [
              "<IPython.core.display.HTML object>"
            ],
            "text/html": [
              "\n",
              "            <style>\n",
              "                .geemap-dark {\n",
              "                    --jp-widgets-color: white;\n",
              "                    --jp-widgets-label-color: white;\n",
              "                    --jp-ui-font-color1: white;\n",
              "                    --jp-layout-color2: #454545;\n",
              "                    background-color: #383838;\n",
              "                }\n",
              "\n",
              "                .geemap-dark .jupyter-button {\n",
              "                    --jp-layout-color3: #383838;\n",
              "                }\n",
              "\n",
              "                .geemap-colab {\n",
              "                    background-color: var(--colab-primary-surface-color, white);\n",
              "                }\n",
              "\n",
              "                .geemap-colab .jupyter-button {\n",
              "                    --jp-layout-color3: var(--colab-primary-surface-color, white);\n",
              "                }\n",
              "            </style>\n",
              "            "
            ]
          },
          "metadata": {}
        }
      ]
    },
    {
      "cell_type": "code",
      "source": [
        "# Define the band name and the class labels and colors corresponding to each pixel value.\n",
        "band = \"b1\"\n",
        "\n",
        "labels = {\n",
        "    1: \"tropical\",\n",
        "    2: \"subtropical\",\n",
        "    3: \"temperate\",\n",
        "    4: \"boreal\",\n",
        "    5: \"polar\",\n",
        "}\n",
        "palette = {\n",
        "    # 0: \"#419BDF\",\n",
        "    1: \"#397D49\",\n",
        "    2: \"#88B053\",\n",
        "    3: \"#7A87C6\",\n",
        "    4: \"#E49635\",\n",
        "    5: \"#DFC35A\",\n",
        "    # 6: \"#C4281B\",\n",
        "    # 7: \"#A59B8F\",\n",
        "    # 8: \"#B39FE1\"\n",
        "}\n"
      ],
      "metadata": {
        "colab": {
          "base_uri": "https://localhost:8080/",
          "height": 17
        },
        "id": "O7mA5A0AkHnn",
        "outputId": "2572893a-70b2-4a78-8f31-65939e79ece0"
      },
      "execution_count": 7,
      "outputs": [
        {
          "output_type": "display_data",
          "data": {
            "text/plain": [
              "<IPython.core.display.HTML object>"
            ],
            "text/html": [
              "\n",
              "            <style>\n",
              "                .geemap-dark {\n",
              "                    --jp-widgets-color: white;\n",
              "                    --jp-widgets-label-color: white;\n",
              "                    --jp-ui-font-color1: white;\n",
              "                    --jp-layout-color2: #454545;\n",
              "                    background-color: #383838;\n",
              "                }\n",
              "\n",
              "                .geemap-dark .jupyter-button {\n",
              "                    --jp-layout-color3: #383838;\n",
              "                }\n",
              "\n",
              "                .geemap-colab {\n",
              "                    background-color: var(--colab-primary-surface-color, white);\n",
              "                }\n",
              "\n",
              "                .geemap-colab .jupyter-button {\n",
              "                    --jp-layout-color3: var(--colab-primary-surface-color, white);\n",
              "                }\n",
              "            </style>\n",
              "            "
            ]
          },
          "metadata": {}
        }
      ]
    },
    {
      "cell_type": "code",
      "source": [
        "factor =10\n",
        "\n",
        "scale = gez.select(0).projection().nominalScale().multiply(ee.Number(factor)).getInfo()\n",
        "\n",
        "print (\"scale: \", scale)\n",
        "\n",
        "\n",
        "admin_bounds = ee.FeatureCollection(\"USDOS/LSIB_SIMPLE/2017\");\n",
        "\n",
        "# Create a dictionary mapping index to region name\n",
        "region_dict = {\n",
        "    0: \"Africa\",\n",
        "    1: \"E Asia\",\n",
        "    2: \"Europe\",\n",
        "    3: \"N Asia\",\n",
        "    4: \"S Asia\",\n",
        "    5: \"Oceania\",\n",
        "    6: \"SE Asia\",\n",
        "    7: \"SW Asia\",\n",
        "    8: \"Australia\",\n",
        "    9: \"Caribbean\",\n",
        "    10: \"Antarctica\",\n",
        "    11: \"S Atlantic\",\n",
        "    12: \"Central Asia\",\n",
        "    13: \"Indian Ocean\",\n",
        "    14: \"North America\",\n",
        "    15: \"South America\",\n",
        "    16: \"Central America\"\n",
        "}\n",
        "\n",
        "# Access the value for a specific key\n",
        "index = 0  # Example key\n",
        "title=\"Transitions GEZ Level 1 to Chelsa KT, to WorldClim KT  (from left to right)\"\n",
        "\n",
        "image_list = [gez, chelsa_kt,worldclim_kt]\n",
        "\n",
        "region_name = region_dict[index]\n",
        "\n",
        "print(f\"Region name: {region_name} (for index {index})\")\n",
        "\n",
        "\n",
        "aoi = admin_bounds.filter(ee.Filter.eq(\"wld_rgn\",region_name))\n",
        "\n",
        "\n",
        "print (\"number of countries: \",aoi.size().getInfo())\n",
        "\n",
        "point_asset =\"users/frarssuser1/WorldESTIMATES6Dec21_V1_GEEv3_/WorldESTIMATES6Dec21_V1_GEEv5_\" # RSS points\n",
        "# Generate the Sankey diagram from the two images\n",
        "sankee.sankify(title=title,\n",
        "    image_list=image_list,\n",
        "    region=aoi.geometry().bounds(),\n",
        "    band=band,\n",
        "    labels=labels,\n",
        "    palette=palette,\n",
        "    scale=scale,\n",
        "    n=10000,\n",
        "    seed=1,\n",
        "    point_asset=point_asset\n",
        ")\n"
      ],
      "metadata": {
        "colab": {
          "base_uri": "https://localhost:8080/",
          "height": 69
        },
        "id": "L3zgnqhRj_-v",
        "outputId": "38f8cf27-4e64-4e38-8a3f-97924fb89efc"
      },
      "execution_count": null,
      "outputs": [
        {
          "output_type": "display_data",
          "data": {
            "text/plain": [
              "<IPython.core.display.HTML object>"
            ],
            "text/html": [
              "\n",
              "            <style>\n",
              "                .geemap-dark {\n",
              "                    --jp-widgets-color: white;\n",
              "                    --jp-widgets-label-color: white;\n",
              "                    --jp-ui-font-color1: white;\n",
              "                    --jp-layout-color2: #454545;\n",
              "                    background-color: #383838;\n",
              "                }\n",
              "\n",
              "                .geemap-dark .jupyter-button {\n",
              "                    --jp-layout-color3: #383838;\n",
              "                }\n",
              "\n",
              "                .geemap-colab {\n",
              "                    background-color: var(--colab-primary-surface-color, white);\n",
              "                }\n",
              "\n",
              "                .geemap-colab .jupyter-button {\n",
              "                    --jp-layout-color3: var(--colab-primary-surface-color, white);\n",
              "                }\n",
              "            </style>\n",
              "            "
            ]
          },
          "metadata": {}
        },
        {
          "output_type": "stream",
          "name": "stdout",
          "text": [
            "scale:  1113.1949079327358\n",
            "Region name: Africa (for index 0)\n",
            "number of countries:  61\n"
          ]
        }
      ]
    },
    {
      "cell_type": "code",
      "source": [],
      "metadata": {
        "id": "8JoArJFUZ1lE"
      },
      "execution_count": null,
      "outputs": []
    }
  ]
}