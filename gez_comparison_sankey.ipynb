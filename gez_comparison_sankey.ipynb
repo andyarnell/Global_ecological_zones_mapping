{
  "nbformat": 4,
  "nbformat_minor": 0,
  "metadata": {
    "colab": {
      "provenance": [],
      "authorship_tag": "ABX9TyMK+E33Y/vKIsrIz0E3sPzB",
      "include_colab_link": true
    },
    "kernelspec": {
      "name": "python3",
      "display_name": "Python 3"
    },
    "language_info": {
      "name": "python"
    },
    "widgets": {
      "application/vnd.jupyter.widget-state+json": {
        "98a66925984b4b5696a924de0d39a788": {
          "model_module": "jupyter-leaflet",
          "model_name": "LeafletMapModel",
          "model_module_version": "^0.18",
          "state": {
            "_dom_classes": [],
            "_model_module": "jupyter-leaflet",
            "_model_module_version": "^0.18",
            "_model_name": "LeafletMapModel",
            "_view_count": null,
            "_view_module": "jupyter-leaflet",
            "_view_module_version": "^0.18",
            "_view_name": "LeafletMapView",
            "bottom": 0,
            "bounce_at_zoom_limits": true,
            "box_zoom": true,
            "center": [
              0,
              0
            ],
            "close_popup_on_click": true,
            "controls": [
              "IPY_MODEL_f498119b66fc4cbb8c8b8275626b2a72",
              "IPY_MODEL_91335e846b5347fe8785eae3ec1e485d",
              "IPY_MODEL_1a4b672b7a7044e9bc04c2a7dabed3cb",
              "IPY_MODEL_0dd368fcdeda4a9a9f4c33800d4915dc",
              "IPY_MODEL_a735df24c8474294b032ca42a4c09243",
              "IPY_MODEL_89b6aaf0877e4aa387cd23756adfcf30",
              "IPY_MODEL_539cbe1e6824427ea754c3440adcd89f",
              "IPY_MODEL_9cf989c35b554687ba0e535fea27ecc7"
            ],
            "crs": {
              "name": "EPSG3857",
              "custom": false
            },
            "default_style": "IPY_MODEL_14032bfaa4fc431abc7384382de0dd36",
            "double_click_zoom": true,
            "dragging": true,
            "dragging_style": "IPY_MODEL_34c8478d48c047b5bb012e02b5f61b6f",
            "east": 0,
            "fullscreen": false,
            "inertia": true,
            "inertia_deceleration": 3000,
            "inertia_max_speed": 1500,
            "interpolation": "bilinear",
            "keyboard": true,
            "keyboard_pan_offset": 80,
            "keyboard_zoom_offset": 1,
            "layers": [
              "IPY_MODEL_eec7f77b241e4fb2ae1684b9af6898ab",
              "IPY_MODEL_998dca96f6dd44b0b794dd9a3c3f26cb",
              "IPY_MODEL_6c7e91e428f34735a136524abb656eff",
              "IPY_MODEL_df0c9b0b7ba64f399e1a68fdb412179c",
              "IPY_MODEL_e91d8842f45c4808ba7ce82c10f8b9e3"
            ],
            "layout": "IPY_MODEL_b24cdac4ce584342aff09fe33a24aa33",
            "left": 9007199254740991,
            "max_zoom": 24,
            "min_zoom": null,
            "modisdate": "2024-04-11",
            "north": 0,
            "options": [
              "bounce_at_zoom_limits",
              "box_zoom",
              "center",
              "close_popup_on_click",
              "double_click_zoom",
              "dragging",
              "fullscreen",
              "inertia",
              "inertia_deceleration",
              "inertia_max_speed",
              "interpolation",
              "keyboard",
              "keyboard_pan_offset",
              "keyboard_zoom_offset",
              "max_zoom",
              "min_zoom",
              "prefer_canvas",
              "scroll_wheel_zoom",
              "tap",
              "tap_tolerance",
              "touch_zoom",
              "world_copy_jump",
              "zoom",
              "zoom_animation_threshold",
              "zoom_delta",
              "zoom_snap"
            ],
            "panes": {},
            "prefer_canvas": false,
            "right": 0,
            "scroll_wheel_zoom": true,
            "south": 0,
            "style": "IPY_MODEL_420475a48df94988b9461c670ba5ad56",
            "tabbable": null,
            "tap": true,
            "tap_tolerance": 15,
            "tooltip": null,
            "top": 9007199254740991,
            "touch_zoom": true,
            "west": 0,
            "window_url": "",
            "world_copy_jump": false,
            "zoom": 2,
            "zoom_animation_threshold": 4,
            "zoom_delta": 1,
            "zoom_snap": 1
          }
        }
      }
    }
  },
  "cells": [
    {
      "cell_type": "markdown",
      "metadata": {
        "id": "view-in-github",
        "colab_type": "text"
      },
      "source": [
        "<a href=\"https://colab.research.google.com/github/andyarnell/Global_ecological_zones_mapping/blob/main/gez_comparison_sankey.ipynb\" target=\"_parent\"><img src=\"https://colab.research.google.com/assets/colab-badge.svg\" alt=\"Open In Colab\"/></a>"
      ]
    },
    {
      "cell_type": "markdown",
      "source": [
        "### Aim: create Sankey plots to illustrate magnitude of climate zone changes to help compare GEZ update options"
      ],
      "metadata": {
        "id": "uDxNsLizmabI"
      }
    },
    {
      "cell_type": "code",
      "source": [
        "# Change the current working directory to \"/content\".\n",
        "%cd \"/content\"\n",
        "\n",
        "# Clone the GitHub repository \"sepal_mgci\" into the current directory.\n",
        "# NB 'fatal' error on reruns are typically just saying it already exists\n",
        "!git clone https://github.com/andyarnell/sankee.git"
      ],
      "metadata": {
        "id": "_1F7JeGdLzkG",
        "outputId": "8e23ed5d-b471-4869-f4ed-69c956927af8",
        "colab": {
          "base_uri": "https://localhost:8080/"
        }
      },
      "execution_count": 1,
      "outputs": [
        {
          "output_type": "stream",
          "name": "stdout",
          "text": [
            "/content\n",
            "fatal: destination path 'sankee' already exists and is not an empty directory.\n"
          ]
        }
      ]
    },
    {
      "cell_type": "code",
      "execution_count": 2,
      "metadata": {
        "colab": {
          "base_uri": "https://localhost:8080/",
          "height": 124
        },
        "id": "0rZEiP5dcQ15",
        "outputId": "8c1ada3a-fcf2-4025-adcc-94199591d256"
      },
      "outputs": [
        {
          "output_type": "stream",
          "name": "stdout",
          "text": [
            "os is already installed.\n",
            "Sidecar has been installed.\n",
            "/\n",
            "['usr', 'etc', 'root', 'lib64', 'boot', 'srv', 'libx32', 'sys', 'mnt', 'lib32', 'media', 'home', 'lib', 'proc', 'opt', 'var', 'bin', 'run', 'dev', 'sbin', 'tmp', 'content', 'kaggle', '.dockerenv', 'datalab', 'tools', 'NGC-DL-CONTAINER-LICENSE', 'cuda-keyring_1.0-1_all.deb']\n",
            "/content/sankee\n"
          ]
        }
      ],
      "source": [
        "# to automatically reload modules.\n",
        "%load_ext autoreload\n",
        "\n",
        "# Set to reload all modules before executing code.\n",
        "%autoreload 2\n",
        "\n",
        "\n",
        "# Function to install a package if it's not already installed\n",
        "def install_if_not_exists(package_name):\n",
        "    try:\n",
        "        __import__(package_name)\n",
        "        print(f\"{package_name} is already installed.\")\n",
        "    except ImportError:\n",
        "        !pip install -q {package_name}\n",
        "        print(f\"{package_name} has been installed.\")\n",
        "\n",
        "# install_if_not_exists(\"sankee\")\n",
        "install_if_not_exists(\"os\")\n",
        "install_if_not_exists(\"Sidecar\")\n",
        "import sidecar\n",
        "import os\n",
        "\n",
        "%cd ..\n",
        "\n",
        "print(os.listdir())\n",
        "\n",
        "import sys\n",
        "\n",
        "%cd \"/content/sankee\"\n",
        "\n",
        "import sankee\n",
        "\n",
        "import ee # google earth engine\n",
        "\n",
        "import geemap\n",
        "\n",
        "from google.colab import output\n",
        "\n",
        "output.enable_custom_widget_manager()\n",
        "\n",
        "gee_project_name = \"ee-andyarnellgee\"\n",
        "\n",
        "ee.Authenticate()\n",
        "\n",
        "ee.Initialize(project=gee_project_name)\n",
        "\n",
        "# # # Generate the Sankey diagram from the two images\n",
        "# sankee.sankify(title=title,\n",
        "#     image_list=image_list,\n",
        "#     region=aoi.geometry().bounds(),\n",
        "#     band=band,\n",
        "#     labels=labels,\n",
        "#     palette=palette,\n",
        "#     scale=scale,\n",
        "#     n=2000,\n",
        "#     seed=0\n",
        "# )\n"
      ]
    },
    {
      "cell_type": "code",
      "source": [
        "chelsa_climate_1981_2010 = ee.ImageCollection(\"projects/ee-andyarnellgee/assets/p0001_global_ecological_zones_update/raw/chelsa_tas_1981_2010\");\n",
        "chelsa_pet = ee.Image(\"projects/ee-andyarnellgee/assets/p0001_global_ecological_zones_update/raw/chelsa_pet_penman_mean_1981-2010_V_2_1\");\n",
        "worldclim_climate = ee.ImageCollection(\"WORLDCLIM/V1/MONTHLY\");\n",
        "terraclimate = ee.ImageCollection(\"IDAHO_EPSCOR/TERRACLIMATE\");\n",
        "mountain_belts = ee.Image(\"users/xavidelamo/SDG1542_Mntn_BioclimaticBelts\");#from Korner et al\n",
        "hzl_contemp = ee.Image(\"projects/ee-andyarnellgee/assets/p0001_global_ecological_zones_update/raw/life_zones_contemporary\");\n",
        "# admin = ee.FeatureCollection(\"FAO/GAUL_SIMPLIFIED_500m/2015/level0\");\n",
        "# table = ee.FeatureCollection(\"USDOS/LSIB_SIMPLE/2017\");"
      ],
      "metadata": {
        "colab": {
          "base_uri": "https://localhost:8080/",
          "height": 17
        },
        "id": "ZYQjGxnklfaI",
        "outputId": "5adefeb6-b6f1-40fa-ac57-75c7d4479bca"
      },
      "execution_count": 3,
      "outputs": [
        {
          "output_type": "display_data",
          "data": {
            "text/plain": [
              "<IPython.core.display.HTML object>"
            ],
            "text/html": [
              "\n",
              "            <style>\n",
              "                .geemap-dark {\n",
              "                    --jp-widgets-color: white;\n",
              "                    --jp-widgets-label-color: white;\n",
              "                    --jp-ui-font-color1: white;\n",
              "                    --jp-layout-color2: #454545;\n",
              "                    background-color: #383838;\n",
              "                }\n",
              "\n",
              "                .geemap-dark .jupyter-button {\n",
              "                    --jp-layout-color3: #383838;\n",
              "                }\n",
              "\n",
              "                .geemap-colab {\n",
              "                    background-color: var(--colab-primary-surface-color, white);\n",
              "                }\n",
              "\n",
              "                .geemap-colab .jupyter-button {\n",
              "                    --jp-layout-color3: var(--colab-primary-surface-color, white);\n",
              "                }\n",
              "            </style>\n",
              "            "
            ]
          },
          "metadata": {}
        }
      ]
    },
    {
      "cell_type": "code",
      "source": [
        "from google.colab import output\n",
        "output.enable_custom_widget_manager()"
      ],
      "metadata": {
        "id": "2RhTxOOSBn68"
      },
      "execution_count": null,
      "outputs": []
    },
    {
      "cell_type": "markdown",
      "source": [
        "Support for third party widgets will remain active for the duration of the session. To disable support:"
      ],
      "metadata": {
        "id": "WHXjPOgGBn7F"
      }
    },
    {
      "cell_type": "code",
      "source": [
        "# from google.colab import output\n",
        "# output.disable_custom_widget_manager()"
      ],
      "metadata": {
        "id": "qMNn2xMhBn7F"
      },
      "execution_count": null,
      "outputs": []
    },
    {
      "cell_type": "code",
      "source": [
        "import ee\n",
        "\n",
        "# Initialize the Earth Engine module\n",
        "ee.Initialize()\n",
        "\n",
        "# Load the existing GEZ data showing level 2\n",
        "gez_2010_level2 = ee.Image('users/bornToBeAlive/gez_2010_wgs84').selfMask() # includes removing lakes etc (val 90)\n",
        "gez_2010_level2 = gez_2010_level2.updateMask(gez_2010_level2.neq(90))\n",
        "\n",
        "# Load the existing GEZ data showing level 1 (approximate climate zones)\n",
        "gez_2010_level1 = gez_2010_level2.divide(10).floor().int().selfMask()\n",
        "\n",
        "# Load the Holdridge Life Zones (adapted from Elsen et al 2022)\n",
        "hzl_contemp = ee.Image(\"projects/ee-andyarnellgee/assets/p0001_global_ecological_zones_update/raw/life_zones_contemporary\")\n",
        "\n",
        "# Create a simplified version of the Holdridge Life Zones to approximate GEZ level 1\n",
        "hzl_contemp_simple = hzl_contemp.divide(10).floor().int().selfMask().updateMask(gez_2010_level1)\n",
        "\n",
        "hzl_contemp_simple_remap = hzl_contemp_simple.remap([1,2,3,4,5,6],[6,5,4,3,2,1],0) #remap values to match gez etc\n",
        "\n",
        "\n",
        "\n",
        "# Function to calculate number of months above a temperature threshold\n",
        "def calc_number_of_months_above(monthly_image_col, band_name_tavg, temp_threshold):\n",
        "    def map_threshold(image):\n",
        "        image_tavg = image.select(band_name_tavg)\n",
        "        image_gte_thresh = image_tavg.gte(temp_threshold)\n",
        "        return image_gte_thresh\n",
        "\n",
        "    monthly_image_col_tavg = monthly_image_col.select(band_name_tavg)\n",
        "    monthly_image_col_tavg_gte_thresh = monthly_image_col_tavg.map(map_threshold)\n",
        "    count_of_months_above = monthly_image_col_tavg_gte_thresh.sum()\n",
        "    return count_of_months_above\n",
        "\n",
        "# Function to classify Köppen-Trewartha climate zones\n",
        "def classify_koppen_trewartha(monthly_image_col, band_name_tavg, prec_avg, pet_avg, high_thresh, low_thresh):\n",
        "    # Calculate number of months above 18 degrees and 10 degrees\n",
        "    number_of_months_above_18_degrees = calc_number_of_months_above(monthly_image_col, band_name_tavg, high_thresh)\n",
        "    number_of_months_above_10_degrees = calc_number_of_months_above(monthly_image_col, band_name_tavg, low_thresh)\n",
        "\n",
        "    # Define Köppen-Trewartha rules\n",
        "    threshold_18_deg = 12  # standard kt val :12 (but for toggling to get similar to GEZ level 1, 8 is closer!)\n",
        "    high_threshold_10_deg = 8  # standard kt val :8\n",
        "    middle_threshold_10_deg = 4  # standard kt val :4\n",
        "    low_threshold_10_deg = 1  # standard kt val : 1\n",
        "\n",
        "    # Define Köppen-Trewartha rules\n",
        "    tropical = number_of_months_above_18_degrees.gte(threshold_18_deg)\n",
        "    subtropical = number_of_months_above_10_degrees.gte(high_threshold_10_deg).And(number_of_months_above_18_degrees.lt(threshold_18_deg))\n",
        "    temperate = number_of_months_above_10_degrees.gte(middle_threshold_10_deg).And(number_of_months_above_10_degrees.lt(high_threshold_10_deg))\n",
        "    boreal = number_of_months_above_10_degrees.gte(low_threshold_10_deg).And(number_of_months_above_10_degrees.lt(middle_threshold_10_deg))\n",
        "    polar = number_of_months_above_10_degrees.lt(low_threshold_10_deg)\n",
        "\n",
        "    # Combine rules to create zones\n",
        "    koppenTrewarthaZones = ee.Image(0) \\\n",
        "        .where(tropical, 1) \\\n",
        "        .where(subtropical, 2) \\\n",
        "        .where(temperate, 3) \\\n",
        "        .where(boreal, 4) \\\n",
        "        .where(polar, 5) \\\n",
        "        .selfMask()\n",
        "\n",
        "    # Return the image with Köppen-Trewartha zones\n",
        "    return koppenTrewarthaZones.rename('koppen_trewartha')\n",
        "\n",
        "\n",
        "\n",
        "# Data prep\n",
        "\n",
        "# Potential evapotranspiration\n",
        "terraclimate_pet_avg = terraclimate.select('pet').filter(ee.Filter.date('1960-01-01', '1991-01-01')).mean()\n",
        "\n",
        "# Precipitation\n",
        "worldclim_climate_prec_avg = worldclim_climate.select('prec').mean().updateMask(gez_2010_level1)\n",
        "\n",
        "\n",
        "\n",
        "# Analysis\n",
        "# Apply classify_koppen_trewartha function to worldclim\n",
        "worldclim_kt = classify_koppen_trewartha(worldclim_climate,\n",
        "                                                      'tavg',\n",
        "                                                      worldclim_climate_prec_avg,\n",
        "                                                      terraclimate_pet_avg,  # as not included in worldclim\n",
        "                                                      180,\n",
        "                                                      100)\n",
        "\n",
        "# Apply classify_koppen_trewartha function to chelsa\n",
        "chelsa_kt = classify_koppen_trewartha(chelsa_climate_1981_2010,\n",
        "                                                      'b1',\n",
        "                                                      worldclim_climate_prec_avg,  # using for temp interim\n",
        "                                                      chelsa_pet,\n",
        "                                                      18,\n",
        "                                                      10)\n",
        "\n",
        "# Mask to terrestrial areas (based on worldclim extent for now)\n",
        "chelsa_kt = chelsa_kt.updateMask(worldclim_kt.gt(0)).updateMask(gez_2010_level1)\n",
        "\n",
        "gez_mountains = (\n",
        "    gez_2010_level2.eq(16)\n",
        "    .Or(gez_2010_level2.eq(25))\n",
        "    .Or(gez_2010_level2.eq(35))\n",
        "    .Or(gez_2010_level2.eq(43))\n",
        ")\n",
        "\n",
        "gez_2010_level1 = gez_2010_level1.updateMask(chelsa_kt) # all layers should have same extent now"
      ],
      "metadata": {
        "colab": {
          "base_uri": "https://localhost:8080/",
          "height": 17
        },
        "id": "kR8QDcLJl5u2",
        "outputId": "c4b99d4a-e1dc-46f5-e4ed-3088b6d3175a"
      },
      "execution_count": 4,
      "outputs": [
        {
          "output_type": "display_data",
          "data": {
            "text/plain": [
              "<IPython.core.display.HTML object>"
            ],
            "text/html": [
              "\n",
              "            <style>\n",
              "                .geemap-dark {\n",
              "                    --jp-widgets-color: white;\n",
              "                    --jp-widgets-label-color: white;\n",
              "                    --jp-ui-font-color1: white;\n",
              "                    --jp-layout-color2: #454545;\n",
              "                    background-color: #383838;\n",
              "                }\n",
              "\n",
              "                .geemap-dark .jupyter-button {\n",
              "                    --jp-layout-color3: #383838;\n",
              "                }\n",
              "\n",
              "                .geemap-colab {\n",
              "                    background-color: var(--colab-primary-surface-color, white);\n",
              "                }\n",
              "\n",
              "                .geemap-colab .jupyter-button {\n",
              "                    --jp-layout-color3: var(--colab-primary-surface-color, white);\n",
              "                }\n",
              "            </style>\n",
              "            "
            ]
          },
          "metadata": {}
        }
      ]
    },
    {
      "cell_type": "code",
      "source": [
        "# Create a map\n",
        "Map = geemap.Map()\n",
        "\n",
        "# Add layers to the map\n",
        "Map.addLayer(gez_2010_level1.randomVisualizer(), {}, \"gez_2010_level1\")\n",
        "# Map.addLayer(gez_2010_level2.randomVisualizer(), {}, \"gez_2010_level2\")# just for context if needed\n",
        "\n",
        "# Add data-driven zones based on climate datasets\n",
        "Map.addLayer(worldclim_kt.select('koppen_trewartha').randomVisualizer(),{},'Worldclim Köppen-Trewartha Climate Zones');\n",
        "\n",
        "Map.addLayer(chelsa_kt.select('koppen_trewartha').randomVisualizer(),{},'Chelsa Köppen-Trewartha Climate Zones');\n",
        "\n",
        "# Map.addLayer(hzl_contemp, {}, \"life zones contemporary - all\")\n",
        "Map.addLayer(hzl_contemp_simple_remap.randomVisualizer(), {}, \"holdridge life zones contemporary - simple\")\n",
        "\n",
        "\n",
        "# # Load two images\n",
        "# aoi = ee.Geometry.Point([-122.30239918572622, 44.802882471354316]).buffer(5000000)\n",
        "\n",
        "# aoi = ee.Geometry.Polygon([xMin, yMin, xMax, yMax], None,False)\n",
        "world = ee.Geometry.Polygon([\n",
        "    [-180, 90], [0, 90], [180, 90],\n",
        "    [180,-90], [0, -90], [-180,-90]],\n",
        "    None, False);\n",
        "\n",
        "# aoi = world\n",
        "# Map.addLayer(aoi,{'color': 'FF0000'},\"aoi\")\n",
        "\n",
        "\n",
        "gez_mountains_inverse_mask = gez_mountains.eq(0)\n",
        "\n",
        "# Map.addLayer(gez_mountains_inverse_mask, {}, \"gez_mountains_inverse_mask \")\n",
        "\n",
        "mountain_belts_inverse_mask = mountain_belts.unmask(0).eq(0)\n",
        "\n",
        "# Map.addLayer(mountain_belts_inverse_mask, {}, \"mountain_belts_inverse_mask \")\n",
        "\n",
        "mountain_mask = ee.ImageCollection(# get mask of mountains in both layers\n",
        "    [mountain_belts_inverse_mask,\n",
        "    gez_mountains_inverse_mask]).min()\n",
        "\n",
        "# Map.addLayer(mountain_mask, {}, \"mountain_mask \")\n",
        "\n",
        "\n",
        "#versions without mountains\n",
        "gez_2010_level1_no_mountains = gez_2010_level1.select(0).rename(\"b1\").updateMask(mountain_mask)\n",
        "\n",
        "worldclim_kt_no_mountains = worldclim_kt.select(0).rename(\"b1\").updateMask(mountain_mask)\n",
        "\n",
        "chelsa_kt_no_mountains =chelsa_kt.select(0).rename(\"b1\").updateMask(mountain_mask)\n",
        "\n",
        "hzl_contemp_simple_remap_no_mountains = hzl_contemp_simple_remap.rename(\"b1\").updateMask(mountain_mask)\n",
        "\n",
        "\n",
        "# Add layers to the map\n",
        "Map.addLayer(gez_2010_level1_no_mountains.randomVisualizer(), {}, \"gez_2010_level1\")\n",
        "\n",
        "# Add data-driven zones based on climate datasets\n",
        "Map.addLayer(worldclim_kt_no_mountains.randomVisualizer(),{},'Worldclim Köppen-Trewartha Climate Zones');\n",
        "\n",
        "Map.addLayer(chelsa_kt_no_mountains.randomVisualizer(),{},'Chelsa Köppen-Trewartha Climate Zones');\n",
        "\n",
        "# Map.addLayer(hzl_contemp, {}, \"life zones contemporary - all\")\n",
        "Map.addLayer(hzl_contemp_simple_remap_no_mountains.randomVisualizer(), {}, \"holdridge life zones contemporary - simple\")\n",
        "\n",
        "\n",
        "\n",
        "# Display the map\n",
        "Map\n"
      ],
      "metadata": {
        "colab": {
          "base_uri": "https://localhost:8080/",
          "height": 17,
          "referenced_widgets": [
            "98a66925984b4b5696a924de0d39a788"
          ]
        },
        "id": "hNZ8YTO0p-BP",
        "outputId": "b4c914c6-1bd6-4f3c-878d-e6f47d74e414"
      },
      "execution_count": 5,
      "outputs": [
        {
          "output_type": "display_data",
          "data": {
            "text/plain": [
              "<IPython.core.display.HTML object>"
            ],
            "text/html": [
              "\n",
              "            <style>\n",
              "                .geemap-dark {\n",
              "                    --jp-widgets-color: white;\n",
              "                    --jp-widgets-label-color: white;\n",
              "                    --jp-ui-font-color1: white;\n",
              "                    --jp-layout-color2: #454545;\n",
              "                    background-color: #383838;\n",
              "                }\n",
              "\n",
              "                .geemap-dark .jupyter-button {\n",
              "                    --jp-layout-color3: #383838;\n",
              "                }\n",
              "\n",
              "                .geemap-colab {\n",
              "                    background-color: var(--colab-primary-surface-color, white);\n",
              "                }\n",
              "\n",
              "                .geemap-colab .jupyter-button {\n",
              "                    --jp-layout-color3: var(--colab-primary-surface-color, white);\n",
              "                }\n",
              "            </style>\n",
              "            "
            ]
          },
          "metadata": {}
        },
        {
          "output_type": "execute_result",
          "data": {
            "text/plain": [
              "Map(center=[0, 0], controls=(WidgetControl(options=['position', 'transparent_bg'], widget=SearchDataGUI(childr…"
            ],
            "application/vnd.jupyter.widget-view+json": {
              "version_major": 2,
              "version_minor": 0,
              "model_id": "98a66925984b4b5696a924de0d39a788"
            }
          },
          "metadata": {},
          "execution_count": 5
        }
      ]
    },
    {
      "cell_type": "code",
      "source": [
        "# Define the band name and the class labels and colors corresponding to each pixel value.\n",
        "band = \"b1\"\n",
        "\n",
        "labels = {\n",
        "    1: \"tropical\",\n",
        "    2: \"subtropical\",\n",
        "    3: \"temperate\",\n",
        "    4: \"boreal\",\n",
        "    5: \"polar\",\n",
        "}\n",
        "palette = {\n",
        "    # 0: \"#419BDF\",\n",
        "    1: \"#397D49\",\n",
        "    2: \"#88B053\",\n",
        "    3: \"#7A87C6\",\n",
        "    4: \"#E49635\",\n",
        "    5: \"#DFC35A\",\n",
        "    # 6: \"#C4281B\",\n",
        "    # 7: \"#A59B8F\",\n",
        "    # 8: \"#B39FE1\"\n",
        "}\n"
      ],
      "metadata": {
        "colab": {
          "base_uri": "https://localhost:8080/",
          "height": 17
        },
        "id": "O7mA5A0AkHnn",
        "outputId": "6557daab-47dc-4f29-d54c-3a25dc69a4a5"
      },
      "execution_count": 6,
      "outputs": [
        {
          "output_type": "display_data",
          "data": {
            "text/plain": [
              "<IPython.core.display.HTML object>"
            ],
            "text/html": [
              "\n",
              "            <style>\n",
              "                .geemap-dark {\n",
              "                    --jp-widgets-color: white;\n",
              "                    --jp-widgets-label-color: white;\n",
              "                    --jp-ui-font-color1: white;\n",
              "                    --jp-layout-color2: #454545;\n",
              "                    background-color: #383838;\n",
              "                }\n",
              "\n",
              "                .geemap-dark .jupyter-button {\n",
              "                    --jp-layout-color3: #383838;\n",
              "                }\n",
              "\n",
              "                .geemap-colab {\n",
              "                    background-color: var(--colab-primary-surface-color, white);\n",
              "                }\n",
              "\n",
              "                .geemap-colab .jupyter-button {\n",
              "                    --jp-layout-color3: var(--colab-primary-surface-color, white);\n",
              "                }\n",
              "            </style>\n",
              "            "
            ]
          },
          "metadata": {}
        }
      ]
    },
    {
      "cell_type": "code",
      "source": [],
      "metadata": {
        "id": "8JoArJFUZ1lE"
      },
      "execution_count": 6,
      "outputs": []
    },
    {
      "cell_type": "code",
      "source": [
        "factor =10 # to coarsen the resolution of the images to be sampled. 1 is native resolution\n",
        "\n",
        "scale = gez_2010_level1.select(0).projection().nominalScale().multiply(ee.Number(factor)).getInfo()\n",
        "\n",
        "print (\"scale: \", scale)\n",
        "\n",
        "\n",
        "admin_bounds = ee.FeatureCollection(\"USDOS/LSIB_SIMPLE/2017\");\n",
        "\n",
        "# Create a dictionary mapping index to region name\n",
        "region_dict = {\n",
        "    0: \"Africa\",\n",
        "    1: \"E Asia\",\n",
        "    2: \"Europe\",\n",
        "    3: \"N Asia\",\n",
        "    4: \"S Asia\",\n",
        "    5: \"Oceania\",\n",
        "    6: \"SE Asia\",\n",
        "    7: \"SW Asia\",\n",
        "    8: \"Australia\",\n",
        "    9: \"Caribbean\",\n",
        "    10: \"Antarctica\",\n",
        "    11: \"S Atlantic\",\n",
        "    12: \"Central Asia\",\n",
        "    13: \"Indian Ocean\",\n",
        "    14: \"North America\",\n",
        "    15: \"South America\",\n",
        "    16: \"Central America\"\n",
        "}\n",
        "\n",
        "# Access the value for a specific key\n",
        "\n",
        "index = 0  # Example key\n",
        "\n",
        "title=\"Transitions GEZ Level 1 to Chelsa KT, to WorldClim KT  (from left to right)\"\n",
        "\n",
        "image_list = [gez_2010_level1_no_mountains, chelsa_kt_no_mountains, worldclim_kt_no_mountains]\n",
        "\n",
        "region_name = region_dict[index]\n",
        "\n",
        "print(f\"Region name: {region_name} (for index {index})\")\n",
        "\n",
        "\n",
        "aoi = admin_bounds.filter(ee.Filter.eq(\"wld_rgn\",region_name))\n",
        "\n",
        "\n",
        "print (\"number of countries: \",aoi.size().getInfo())\n",
        "\n",
        "point_asset =\"users/frarssuser1/WorldESTIMATES6Dec21_V1_GEEv3_/WorldESTIMATES6Dec21_V1_GEEv5_\" # RSS points\n",
        "\n",
        "# Generate the Sankey diagram from the two images\n",
        "sankee.sankify(title=title,\n",
        "    image_list=image_list,\n",
        "    region=aoi.geometry().bounds(),\n",
        "    band=band,\n",
        "    labels=labels,\n",
        "    palette=palette,\n",
        "    scale=scale,\n",
        "    # n=2000,\n",
        "    seed=1,\n",
        "    point_asset=point_asset,\n",
        "    proportion = .1\n",
        ")\n"
      ],
      "metadata": {
        "colab": {
          "base_uri": "https://localhost:8080/",
          "height": 69
        },
        "id": "L3zgnqhRj_-v",
        "outputId": "9f4fe247-9e6b-4f7f-c7a3-8607e812a1d7"
      },
      "execution_count": null,
      "outputs": [
        {
          "output_type": "display_data",
          "data": {
            "text/plain": [
              "<IPython.core.display.HTML object>"
            ],
            "text/html": [
              "\n",
              "            <style>\n",
              "                .geemap-dark {\n",
              "                    --jp-widgets-color: white;\n",
              "                    --jp-widgets-label-color: white;\n",
              "                    --jp-ui-font-color1: white;\n",
              "                    --jp-layout-color2: #454545;\n",
              "                    background-color: #383838;\n",
              "                }\n",
              "\n",
              "                .geemap-dark .jupyter-button {\n",
              "                    --jp-layout-color3: #383838;\n",
              "                }\n",
              "\n",
              "                .geemap-colab {\n",
              "                    background-color: var(--colab-primary-surface-color, white);\n",
              "                }\n",
              "\n",
              "                .geemap-colab .jupyter-button {\n",
              "                    --jp-layout-color3: var(--colab-primary-surface-color, white);\n",
              "                }\n",
              "            </style>\n",
              "            "
            ]
          },
          "metadata": {}
        },
        {
          "output_type": "stream",
          "name": "stdout",
          "text": [
            "scale:  1113.1949079327358\n",
            "Region name: Africa (for index 0)\n",
            "number of countries:  61\n"
          ]
        }
      ]
    },
    {
      "cell_type": "code",
      "source": [],
      "metadata": {
        "id": "G297TgiPxiqK"
      },
      "execution_count": null,
      "outputs": []
    }
  ]
}