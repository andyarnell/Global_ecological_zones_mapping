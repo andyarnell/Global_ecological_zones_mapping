{
  "nbformat": 4,
  "nbformat_minor": 0,
  "metadata": {
    "colab": {
      "provenance": [],
      "authorship_tag": "ABX9TyMxVC/rx4eAGmDPN2yzZ4Uy",
      "include_colab_link": true
    },
    "kernelspec": {
      "name": "python3",
      "display_name": "Python 3"
    },
    "language_info": {
      "name": "python"
    }
  },
  "cells": [
    {
      "cell_type": "markdown",
      "metadata": {
        "id": "view-in-github",
        "colab_type": "text"
      },
      "source": [
        "<a href=\"https://colab.research.google.com/github/andyarnell/Global_ecological_zones_mapping/blob/main/gez_comparison_sankey.ipynb\" target=\"_parent\"><img src=\"https://colab.research.google.com/assets/colab-badge.svg\" alt=\"Open In Colab\"/></a>"
      ]
    },
    {
      "cell_type": "markdown",
      "source": [
        "### Aim: create Sankey plots to illustrate magnitude of climate zone changes to help compare GEZ update options"
      ],
      "metadata": {
        "id": "uDxNsLizmabI"
      }
    },
    {
      "cell_type": "markdown",
      "source": [
        "Clone GitHub repository for visualising results"
      ],
      "metadata": {
        "id": "5wYF9GZaLUjA"
      }
    },
    {
      "cell_type": "code",
      "source": [
        "# Change the current working directory to \"/content\".\n",
        "%cd \"/content\"\n",
        "\n",
        "# Clone the GitHub repository \"sepal_mgci\" into the current directory.\n",
        "# NB 'fatal' error on reruns are typically just saying it already exists\n",
        "!git clone https://github.com/andyarnell/sankee.git"
      ],
      "metadata": {
        "id": "_1F7JeGdLzkG"
      },
      "execution_count": null,
      "outputs": []
    },
    {
      "cell_type": "markdown",
      "source": [
        "Set up packages"
      ],
      "metadata": {
        "id": "TCzIaiKIK4Og"
      }
    },
    {
      "cell_type": "code",
      "execution_count": 51,
      "metadata": {
        "colab": {
          "base_uri": "https://localhost:8080/",
          "height": 141
        },
        "id": "0rZEiP5dcQ15",
        "outputId": "c3993d83-021b-4408-c1ab-fce8cd6f78a6"
      },
      "outputs": [
        {
          "output_type": "display_data",
          "data": {
            "text/plain": [
              "<IPython.core.display.HTML object>"
            ],
            "text/html": [
              "\n",
              "            <style>\n",
              "                .geemap-dark {\n",
              "                    --jp-widgets-color: white;\n",
              "                    --jp-widgets-label-color: white;\n",
              "                    --jp-ui-font-color1: white;\n",
              "                    --jp-layout-color2: #454545;\n",
              "                    background-color: #383838;\n",
              "                }\n",
              "\n",
              "                .geemap-dark .jupyter-button {\n",
              "                    --jp-layout-color3: #383838;\n",
              "                }\n",
              "\n",
              "                .geemap-colab {\n",
              "                    background-color: var(--colab-primary-surface-color, white);\n",
              "                }\n",
              "\n",
              "                .geemap-colab .jupyter-button {\n",
              "                    --jp-layout-color3: var(--colab-primary-surface-color, white);\n",
              "                }\n",
              "            </style>\n",
              "            "
            ]
          },
          "metadata": {}
        },
        {
          "output_type": "stream",
          "name": "stdout",
          "text": [
            "The autoreload extension is already loaded. To reload it, use:\n",
            "  %reload_ext autoreload\n",
            "os is already installed.\n",
            "/\n",
            "['boot', 'bin', 'root', 'sys', 'srv', 'opt', 'var', 'usr', 'proc', 'home', 'mnt', 'lib32', 'media', 'etc', 'libx32', 'lib', 'lib64', 'tmp', 'sbin', 'dev', 'run', 'content', '.dockerenv', 'tools', 'datalab', 'python-apt', 'NGC-DL-CONTAINER-LICENSE', 'cuda-keyring_1.0-1_all.deb']\n",
            "/content/sankee\n"
          ]
        }
      ],
      "source": [
        "# to automatically reload modules.\n",
        "%load_ext autoreload\n",
        "\n",
        "# Set to reload all modules before executing code.\n",
        "%autoreload 2\n",
        "\n",
        "\n",
        "# Function to install a package if it's not already installed\n",
        "def install_if_not_exists(package_name):\n",
        "    try:\n",
        "        __import__(package_name)\n",
        "        print(f\"{package_name} is already installed.\")\n",
        "    except ImportError:\n",
        "        !pip install -q {package_name}\n",
        "        print(f\"{package_name} has been installed.\")\n",
        "\n",
        "# install_if_not_exists(\"sankee\")\n",
        "install_if_not_exists(\"os\")\n",
        "\n",
        "# from google.colab import output\n",
        "# output.enable_custom_widget_manager()\n",
        "# install_if_not_exists(\"Sidecar\")\n",
        "# from sidecar import Sidecar\n",
        "\n",
        "import os\n",
        "\n",
        "%cd ..\n",
        "\n",
        "print(os.listdir())\n",
        "\n",
        "import sys\n",
        "\n",
        "%cd \"/content/sankee\"\n",
        "\n",
        "import sankee\n",
        "\n",
        "import ee # google earth engine\n",
        "\n",
        "import geemap\n",
        "\n",
        "from google.colab import output\n",
        "\n",
        "\n",
        "gee_project_name = \"ee-andyarnellgee\"\n",
        "\n",
        "ee.Authenticate()\n",
        "\n",
        "ee.Initialize(project=gee_project_name)\n"
      ]
    },
    {
      "cell_type": "markdown",
      "source": [
        "Parameters"
      ],
      "metadata": {
        "id": "Y1f-DuatK-zT"
      }
    },
    {
      "cell_type": "code",
      "source": [
        "# default val: 18 degrees celsius\n",
        "#  Note: original GEZ report also mentions \"frost free\", and an average of above 18 degrees in marine areas in one of it's definitions\n",
        "# this would be hard to replicate. As an average of above 18 degrees is most commonly used in this text, and elsewhere, this is what we use.\n",
        "temp_A = 18\n",
        "\n",
        "# default val: 10 degrees celsius\n",
        "temp_B = 10\n",
        "\n",
        "# choose mask\n",
        "# where: 0 = no_mask, 1 = gez_mountains_inverse_mask, 2 = mountain_belts_inverse_mask, 3 = combined_mountain_mask\n",
        "mask_choice = 1 #NB set to 0 unless want to exclude mountainous areas from map/stats\n",
        "\n",
        "# proportion of points to use for stats (closer to 1 the more precise but slower)\n",
        "prop_of_points = 0.1\n",
        "\n",
        "# choose region to assess in the sankey plot at the end\n",
        "region_index = 0  # numeric value - change as needed based dictionary below\n",
        "\n",
        "# dictionary mapping region_index to region name\n",
        "region_dict = {\n",
        "    0: \"Africa\",\n",
        "    1: \"E Asia\",\n",
        "    2: \"Europe\",\n",
        "    3: \"N Asia\",\n",
        "    4: \"S Asia\",\n",
        "    5: \"Oceania\",\n",
        "    6: \"SE Asia\",\n",
        "    7: \"SW Asia\",\n",
        "    8: \"Australia\",\n",
        "    9: \"Caribbean\",\n",
        "    10: \"Antarctica\",\n",
        "    11: \"S Atlantic\",\n",
        "    12: \"Central Asia\",\n",
        "    13: \"Indian Ocean\",\n",
        "    14: \"North America\",\n",
        "    15: \"South America\",\n",
        "    16: \"Central America\"\n",
        "}\n",
        "\n",
        "factor = 10 # to coarsen resolution of the images to be sampled. Where 1 is native resolution. Coarser factors e.g. 10, should be quicker as 10*10 fewer pixels, but less accurate.\n",
        "\n",
        "# Define the band name\n",
        "band = \"b1\" # keep as b1 unless reason to change\n",
        "\n",
        "# Define class labels and colors corresponding to each pixel value.\n",
        "labels = {\n",
        "    1: \"tropical\",\n",
        "    2: \"subtropical\",\n",
        "    3: \"temperate\",\n",
        "    4: \"boreal\",\n",
        "    5: \"polar\",\n",
        "}\n",
        "\n",
        "# colours\n",
        "palette = {\n",
        "    1: \"#BA1A00\",\n",
        "    2: \"#F09136\",\n",
        "    3: \"#FFDF4A\",\n",
        "    4: \"#009F49\",\n",
        "    5: \"#1452A1\",\n",
        "}\n",
        "#NB colours aligned with https://www.nature.com/articles/s41893-024-01416-5/figures/2 and using https://redketchup.io/color-picker"
      ],
      "metadata": {
        "id": "RnusDMMTLI-k",
        "outputId": "261aa77a-0c75-4865-c093-8cea840e75ac",
        "colab": {
          "base_uri": "https://localhost:8080/",
          "height": 17
        }
      },
      "execution_count": 62,
      "outputs": [
        {
          "output_type": "display_data",
          "data": {
            "text/plain": [
              "<IPython.core.display.HTML object>"
            ],
            "text/html": [
              "\n",
              "            <style>\n",
              "                .geemap-dark {\n",
              "                    --jp-widgets-color: white;\n",
              "                    --jp-widgets-label-color: white;\n",
              "                    --jp-ui-font-color1: white;\n",
              "                    --jp-layout-color2: #454545;\n",
              "                    background-color: #383838;\n",
              "                }\n",
              "\n",
              "                .geemap-dark .jupyter-button {\n",
              "                    --jp-layout-color3: #383838;\n",
              "                }\n",
              "\n",
              "                .geemap-colab {\n",
              "                    background-color: var(--colab-primary-surface-color, white);\n",
              "                }\n",
              "\n",
              "                .geemap-colab .jupyter-button {\n",
              "                    --jp-layout-color3: var(--colab-primary-surface-color, white);\n",
              "                }\n",
              "            </style>\n",
              "            "
            ]
          },
          "metadata": {}
        }
      ]
    },
    {
      "cell_type": "markdown",
      "source": [
        "Input data prep"
      ],
      "metadata": {
        "id": "PqTQDjhnLMf7"
      }
    },
    {
      "cell_type": "code",
      "source": [
        "# input data\n",
        "# climate data\n",
        "chelsa_climate_1981_2010 = ee.ImageCollection(\"projects/ee-andyarnellgee/assets/p0001_global_ecological_zones_update/raw/chelsa_tas_1981_2010\");\n",
        "chelsa_pet = ee.Image(\"projects/ee-andyarnellgee/assets/p0001_global_ecological_zones_update/raw/chelsa_pet_penman_mean_1981-2010_V_2_1\");\n",
        "worldclim_climate = ee.ImageCollection(\"WORLDCLIM/V1/MONTHLY\");\n",
        "\n",
        "#other climate data\n",
        "terraclimate = ee.ImageCollection(\"IDAHO_EPSCOR/TERRACLIMATE\"); # not used currently but here if needed\n",
        "mountain_belts = ee.Image(\"users/xavidelamo/SDG1542_Mntn_BioclimaticBelts\"); # from Korner et al (for masking if required)\n",
        "hzl_contemp = ee.Image(\"projects/ee-andyarnellgee/assets/p0001_global_ecological_zones_update/raw/life_zones_contemporary\");\n",
        "\n",
        "point_asset =ee.FeatureCollection(\"users/frarssuser1/WorldESTIMATES6Dec21_V1_GEEv3_/WorldESTIMATES6Dec21_V1_GEEv5_\") # RSS points\n",
        "\n",
        "admin_bounds = ee.FeatureCollection(\"USDOS/LSIB_SIMPLE/2017\");\n",
        "\n",
        "# Load the existing GEZ data showing level 2\n",
        "gez_2010_level2 = ee.Image('users/bornToBeAlive/gez_2010_wgs84').selfMask() # includes removing lakes etc (val 90)\n",
        "gez_2010_level2 = gez_2010_level2.updateMask(gez_2010_level2.neq(90))\n",
        "\n",
        "# reclass existing GEZ data to level 1 (approximate climate zones)\n",
        "gez_2010_level1 = gez_2010_level2.divide(10).floor().int().selfMask()\n",
        "\n",
        "# Load the Holdridge Life Zones (adapted from Elsen et al 2022)\n",
        "hzl_contemp = ee.Image(\"projects/ee-andyarnellgee/assets/p0001_global_ecological_zones_update/raw/life_zones_contemporary\")\n",
        "\n",
        "# Create a simplified version of the Holdridge Life Zones to approximate GEZ level 1\n",
        "hzl_contemp_simple = hzl_contemp.divide(10).floor().int().selfMask().updateMask(gez_2010_level1)\n",
        "\n",
        "hzl_contemp_simple_remap = hzl_contemp_simple.remap([1,2,3,4,5,6],[6,5,4,3,2,1],0) #remap values to match gez etc\n",
        "\n",
        "#select region based on region_index\n",
        "region_name = region_dict[region_index]\n",
        "\n",
        "print(f\"Region name: {region_name} (for region_index {region_index})\")\n",
        "\n",
        "aoi = admin_bounds.filter(ee.Filter.eq(\"wld_rgn\",region_name))\n",
        "\n",
        "print (\"number of countries: \",aoi.size().getInfo())\n",
        "\n",
        "\n",
        "# get resolution from one of the inputs\n",
        "scale = gez_2010_level1.select(0).projection().nominalScale().multiply(ee.Number(factor)).getInfo()\n",
        "\n",
        "print (\"scale: \", scale)\n",
        "\n",
        "# functions related to koppen trewartha zone creation\n",
        "\n",
        "# Function to calculate number of months above a temperature threshold\n",
        "def calc_number_of_months_above(monthly_image_col, band_name_tavg, temp_threshold):\n",
        "    def map_threshold(image):\n",
        "        image_tavg = image.select(band_name_tavg)\n",
        "        image_gte_thresh = image_tavg.gte(temp_threshold)\n",
        "        return image_gte_thresh\n",
        "\n",
        "    monthly_image_col_tavg = monthly_image_col.select(band_name_tavg)\n",
        "    monthly_image_col_tavg_gte_thresh = monthly_image_col_tavg.map(map_threshold)\n",
        "    count_of_months_above = monthly_image_col_tavg_gte_thresh.sum()\n",
        "    return count_of_months_above\n",
        "\n",
        "# Function to classify Köppen-Trewartha climate zones\n",
        "def classify_koppen_trewartha(monthly_image_col, band_name_tavg, prec_avg, pet_avg, temp_A, temp_B):\n",
        "\n",
        "    # NB prec_avg and pet_avg not used currently as level 1 exploration\n",
        "\n",
        "    # what values for temp_A and temp_B?\n",
        "    # depends a little on interpretation - from FAO GEZ 2000 and 2010 approaches:\n",
        "    ### temp_A = 0 (frost free) or temp_A = 18 (mentioned for coastal areas, although hard to define where coastal areas extend to...)\n",
        "    ### temp_B = 10\n",
        "    # one approach is to plot both options for temp_A seperately.\n",
        "\n",
        "    # Calculate number of months above 18 degrees and 10 degrees\n",
        "    number_of_months_above_temp_A = calc_number_of_months_above(monthly_image_col, band_name_tavg, temp_A)\n",
        "    number_of_months_above_temp_B = calc_number_of_months_above(monthly_image_col, band_name_tavg, temp_B)\n",
        "\n",
        "    # Define Köppen-Trewartha rules\n",
        "\n",
        "    # standard kt val :12 (but if happen to be toggling to get similar to GEZ level 1, 8 is closer!)\n",
        "    mnth_threshold_temp_A = 12\n",
        "\n",
        "    # standard kt val :8\n",
        "    high_mnth_threshold_temp_B = 8\n",
        "\n",
        "    # standard kt val :4\n",
        "    middle_mnth_threshold_temp_B = 4\n",
        "\n",
        "    # standard kt val : 1\n",
        "    low_mnth_threshold_temp_B = 1\n",
        "\n",
        "    # Define Köppen-Trewartha rules\n",
        "    tropical = number_of_months_above_temp_A.gte(mnth_threshold_temp_A)\n",
        "    # subtropical = number_of_months_above_temp_B.gte(high_mnth_threshold_temp_B).And(number_of_months_above_temp_A.lt(mnth_threshold_temp_A))\n",
        "    subtropical = number_of_months_above_temp_B.gte(high_mnth_threshold_temp_B).And(number_of_months_above_temp_A.lt(mnth_threshold_temp_A))\n",
        "    temperate = number_of_months_above_temp_B.gte(middle_mnth_threshold_temp_B).And(number_of_months_above_temp_B.lt(high_mnth_threshold_temp_B))\n",
        "    boreal = number_of_months_above_temp_B.gte(low_mnth_threshold_temp_B).And(number_of_months_above_temp_B.lt(middle_mnth_threshold_temp_B))\n",
        "    polar = number_of_months_above_temp_B.lt(low_mnth_threshold_temp_B)\n",
        "\n",
        "    # Combine rules to create zones\n",
        "    koppenTrewarthaZones = ee.Image(0) \\\n",
        "        .where(tropical, 1) \\\n",
        "        .where(subtropical, 2) \\\n",
        "        .where(temperate, 3) \\\n",
        "        .where(boreal, 4) \\\n",
        "        .where(polar, 5) \\\n",
        "        .selfMask()\n",
        "\n",
        "    # Return the image with Köppen-Trewartha zones\n",
        "    return koppenTrewarthaZones.rename('koppen_trewartha')\n",
        "\n",
        "\n",
        "\n",
        "# Data prep\n",
        "\n",
        "# Potential evapotranspiration\n",
        "terraclimate_pet_avg = terraclimate.select('pet').filter(ee.Filter.date('1960-01-01', '1991-01-01')).mean()\n",
        "\n",
        "# Precipitation\n",
        "worldclim_climate_prec_avg = worldclim_climate.select('prec').mean().updateMask(gez_2010_level1)\n",
        "\n",
        "\n",
        "# Analysis\n",
        "# Apply classify_koppen_trewartha function to worldclim\n",
        "worldclim_factor = 10 # as values in this dataset are multiplied by 10 to keep as integers\n",
        "\n",
        "worldclim_kt = classify_koppen_trewartha(worldclim_climate,\n",
        "                                                      'tavg',\n",
        "                                                      worldclim_climate_prec_avg,\n",
        "                                                      terraclimate_pet_avg,  # as not included in worldclim\n",
        "                                                      temp_A*worldclim_factor,\n",
        "                                                      temp_B*worldclim_factor)\n",
        "\n",
        "# Apply classify_koppen_trewartha function to chelsa\n",
        "chelsa_kt = classify_koppen_trewartha(chelsa_climate_1981_2010,\n",
        "                                                      'b1', # avg temp from uploaded chelsa is in b1\n",
        "                                                      worldclim_climate_prec_avg,  # using for temp interim\n",
        "                                                      chelsa_pet,\n",
        "                                                      temp_A,\n",
        "                                                      temp_B)\n",
        "\n",
        "# Mask to terrestrial areas (based on worldclim extent for now)\n",
        "chelsa_kt = chelsa_kt.updateMask(worldclim_kt.gt(0)).updateMask(gez_2010_level1)\n",
        "\n",
        "gez_mountains = (\n",
        "    gez_2010_level2.eq(16)\n",
        "    .Or(gez_2010_level2.eq(25))\n",
        "    .Or(gez_2010_level2.eq(35))\n",
        "    .Or(gez_2010_level2.eq(43))\n",
        ")\n",
        "\n",
        "gez_2010_level1 = gez_2010_level1.updateMask(chelsa_kt) # all layers should have same extent now"
      ],
      "metadata": {
        "colab": {
          "base_uri": "https://localhost:8080/",
          "height": 69
        },
        "id": "kR8QDcLJl5u2",
        "outputId": "7bb0872c-be9c-4e08-b302-ae838c6abd2c"
      },
      "execution_count": 63,
      "outputs": [
        {
          "output_type": "display_data",
          "data": {
            "text/plain": [
              "<IPython.core.display.HTML object>"
            ],
            "text/html": [
              "\n",
              "            <style>\n",
              "                .geemap-dark {\n",
              "                    --jp-widgets-color: white;\n",
              "                    --jp-widgets-label-color: white;\n",
              "                    --jp-ui-font-color1: white;\n",
              "                    --jp-layout-color2: #454545;\n",
              "                    background-color: #383838;\n",
              "                }\n",
              "\n",
              "                .geemap-dark .jupyter-button {\n",
              "                    --jp-layout-color3: #383838;\n",
              "                }\n",
              "\n",
              "                .geemap-colab {\n",
              "                    background-color: var(--colab-primary-surface-color, white);\n",
              "                }\n",
              "\n",
              "                .geemap-colab .jupyter-button {\n",
              "                    --jp-layout-color3: var(--colab-primary-surface-color, white);\n",
              "                }\n",
              "            </style>\n",
              "            "
            ]
          },
          "metadata": {}
        },
        {
          "output_type": "stream",
          "name": "stdout",
          "text": [
            "Region name: Africa (for region_index 0)\n",
            "number of countries:  61\n",
            "scale:  1113.1949079327358\n"
          ]
        }
      ]
    },
    {
      "cell_type": "markdown",
      "source": [
        " Build layers and show on global map\n",
        "- toggle layer visibility on map as required"
      ],
      "metadata": {
        "id": "mVseCrmKL0IN"
      }
    },
    {
      "cell_type": "code",
      "source": [
        "# Create a map\n",
        "Map = geemap.Map()\n",
        "\n",
        "# get boundaries for the world\n",
        "\n",
        "# aoi = ee.Geometry.Polygon([xMin, yMin, xMax, yMax], None,False)\n",
        "world = ee.Geometry.Polygon([\n",
        "    [-180, 90], [0, 90], [180, 90],\n",
        "    [180,-90], [0, -90], [-180,-90]],\n",
        "    None, False);\n",
        "\n",
        "# aoi = world\n",
        "# Map.addLayer(aoi,{'color': 'FF0000'},\"aoi\")\n",
        "\n",
        "\n",
        "### apply choice for masking data (no mask vs masking out mountain areas)\n",
        "\n",
        "gez_mountains_inverse_mask = gez_mountains.eq(0)\n",
        "\n",
        "# Map.addLayer(gez_mountains_inverse_mask, {}, \"gez_mountains_inverse_mask \")\n",
        "\n",
        "mountain_belts_inverse_mask = mountain_belts.unmask(0).eq(0)\n",
        "\n",
        "# Map.addLayer(mountain_belts_inverse_mask, {}, \"mountain_belts_inverse_mask \")\n",
        "\n",
        "combined_mountain_mask = ee.ImageCollection(\n",
        "    # get mask of mountains in both layers\n",
        "    [mountain_belts_inverse_mask,\n",
        "    gez_mountains_inverse_mask]).min()\n",
        "\n",
        "no_mask = ee.Image(1)\n",
        "\n",
        "\n",
        "# see parameter at start. if it is true then mountains are masked out\n",
        "mask = [no_mask, gez_mountains_inverse_mask,mountain_belts_inverse_mask,combined_mountain_mask][mask_choice]\n",
        "\n",
        "# Map.addLayer(mask, {}, \"mask\")\n",
        "\n",
        "# apply mask and make sure band names are consistent\n",
        "gez_2010_level1 = gez_2010_level1.select(0).rename(band).updateMask(mask)\n",
        "\n",
        "worldclim_kt = worldclim_kt.select(0).rename(band).updateMask(mask)\n",
        "\n",
        "chelsa_kt =chelsa_kt.select(0).rename(band).updateMask(mask)\n",
        "\n",
        "# hzl_contemp_simple_remap = hzl_contemp_simple_remap.rename(\"b1\").updateMask(mask)\n",
        "\n",
        "print(min(*palette.keys()))\n",
        "\n",
        "viz_params_kt_zones = {'min':min(*palette.keys()),'max':max(*palette.keys()),'palette':[*palette.values()]}\n",
        "\n",
        "###### Add layers to the map\n",
        "Map.addLayer(gez_2010_level1, viz_params_kt_zones, \"gez_2010_level1\") #.randomVisualizer(), {}, \"gez_2010_level1\")\n",
        "\n",
        "# Add data-driven zones based on climate datasets\n",
        "Map.addLayer(worldclim_kt,viz_params_kt_zones,'Worldclim Köppen-Trewartha Climate Zones');\n",
        "\n",
        "Map.addLayer(chelsa_kt,viz_params_kt_zones,'Chelsa Köppen-Trewartha Climate Zones');\n",
        "\n",
        "# Map.addLayer(hzl_contemp, {}, \"life zones contemporary - all\")\n",
        "# Map.addLayer(hzl_contemp_simple_remap.randomVisualizer(), {}, \"holdridge life zones contemporary - simple\")\n",
        "\n",
        "\n",
        "# lat_grid = geemap.latitude_grid(step=10, west=-180, east=180, south=-80, north=80)\n",
        "\n",
        "# Map.addLayer(lat_grid,{},\"Latitude grid\",1,.5)\n",
        "\n",
        "Map.addLayer(point_asset.limit(100),{},\"Latitude grid\",1,.5)\n",
        "\n",
        "# Display the map\n",
        "Map\n",
        "\n"
      ],
      "metadata": {
        "id": "hNZ8YTO0p-BP",
        "outputId": "7a4ba615-03aa-4e93-ed49-399926595bf1",
        "colab": {
          "base_uri": "https://localhost:8080/",
          "height": 228
        }
      },
      "execution_count": 84,
      "outputs": [
        {
          "output_type": "display_data",
          "data": {
            "text/plain": [
              "<IPython.core.display.HTML object>"
            ],
            "text/html": [
              "\n",
              "            <style>\n",
              "                .geemap-dark {\n",
              "                    --jp-widgets-color: white;\n",
              "                    --jp-widgets-label-color: white;\n",
              "                    --jp-ui-font-color1: white;\n",
              "                    --jp-layout-color2: #454545;\n",
              "                    background-color: #383838;\n",
              "                }\n",
              "\n",
              "                .geemap-dark .jupyter-button {\n",
              "                    --jp-layout-color3: #383838;\n",
              "                }\n",
              "\n",
              "                .geemap-colab {\n",
              "                    background-color: var(--colab-primary-surface-color, white);\n",
              "                }\n",
              "\n",
              "                .geemap-colab .jupyter-button {\n",
              "                    --jp-layout-color3: var(--colab-primary-surface-color, white);\n",
              "                }\n",
              "            </style>\n",
              "            "
            ]
          },
          "metadata": {}
        },
        {
          "output_type": "stream",
          "name": "stdout",
          "text": [
            "1\n"
          ]
        },
        {
          "output_type": "error",
          "ename": "NameError",
          "evalue": "name 'limit' is not defined",
          "traceback": [
            "\u001b[0;31m---------------------------------------------------------------------------\u001b[0m",
            "\u001b[0;31mNameError\u001b[0m                                 Traceback (most recent call last)",
            "\u001b[0;32m<ipython-input-84-916cb37d5008>\u001b[0m in \u001b[0;36m<cell line: 68>\u001b[0;34m()\u001b[0m\n\u001b[1;32m     66\u001b[0m \u001b[0;31m# Map.addLayer(lat_grid,{},\"Latitude grid\",1,.5)\u001b[0m\u001b[0;34m\u001b[0m\u001b[0;34m\u001b[0m\u001b[0m\n\u001b[1;32m     67\u001b[0m \u001b[0;34m\u001b[0m\u001b[0m\n\u001b[0;32m---> 68\u001b[0;31m \u001b[0mMap\u001b[0m\u001b[0;34m.\u001b[0m\u001b[0maddLayer\u001b[0m\u001b[0;34m(\u001b[0m\u001b[0mpoint_asset\u001b[0m\u001b[0;34m,\u001b[0m\u001b[0mlimit\u001b[0m\u001b[0;34m(\u001b[0m\u001b[0;36m100\u001b[0m\u001b[0;34m)\u001b[0m\u001b[0;34m,\u001b[0m\u001b[0;34m{\u001b[0m\u001b[0;34m}\u001b[0m\u001b[0;34m,\u001b[0m\u001b[0;34m\"Latitude grid\"\u001b[0m\u001b[0;34m,\u001b[0m\u001b[0;36m1\u001b[0m\u001b[0;34m,\u001b[0m\u001b[0;36m.5\u001b[0m\u001b[0;34m)\u001b[0m\u001b[0;34m\u001b[0m\u001b[0;34m\u001b[0m\u001b[0m\n\u001b[0m\u001b[1;32m     69\u001b[0m \u001b[0;34m\u001b[0m\u001b[0m\n\u001b[1;32m     70\u001b[0m \u001b[0;31m# Display the map\u001b[0m\u001b[0;34m\u001b[0m\u001b[0;34m\u001b[0m\u001b[0m\n",
            "\u001b[0;31mNameError\u001b[0m: name 'limit' is not defined"
          ]
        }
      ]
    },
    {
      "cell_type": "markdown",
      "source": [
        "Make Sankey plot for a given region comparing GEZ to data driven KT outputs"
      ],
      "metadata": {
        "id": "NZ5WCDt0L82F"
      }
    },
    {
      "cell_type": "code",
      "source": [
        "title=\"Transitions: GEZ Level 1 to WorldClim KT, Chelsa KT  (from left to right)\" # <title is not showing on my browser unfortunately>\n",
        "\n",
        "image_list = [gez_2010_level1, worldclim_kt, chelsa_kt] # order of images to compare (from left to right)\n",
        "\n",
        "print (\"Region: \", region_dict.get(region_index))\n",
        "print (title)\n",
        "\n",
        "# Generate the Sankey diagram from the two images\n",
        "sankee.sankify(title=title,\n",
        "    image_list=image_list,\n",
        "    region=aoi.geometry().bounds(),\n",
        "    band=band,\n",
        "    labels=labels,\n",
        "    palette=palette,\n",
        "    scale=scale,\n",
        "    # n=500,\n",
        "    seed=1,\n",
        "    point_asset=point_asset, ## uncomment this line if want to use point asset (i.e. RSS plots)\n",
        "    proportion = prop_of_points # defined in parameters above\n",
        ")\n",
        "\n",
        "\n",
        "#Note: To see transition values hover over plot. To download png hover over top right of image until camera icon appears."
      ],
      "metadata": {
        "id": "L3zgnqhRj_-v",
        "outputId": "937b9422-b471-4248-f224-543504d6a158",
        "colab": {
          "base_uri": "https://localhost:8080/",
          "height": 52
        }
      },
      "execution_count": null,
      "outputs": [
        {
          "output_type": "display_data",
          "data": {
            "text/plain": [
              "<IPython.core.display.HTML object>"
            ],
            "text/html": [
              "\n",
              "            <style>\n",
              "                .geemap-dark {\n",
              "                    --jp-widgets-color: white;\n",
              "                    --jp-widgets-label-color: white;\n",
              "                    --jp-ui-font-color1: white;\n",
              "                    --jp-layout-color2: #454545;\n",
              "                    background-color: #383838;\n",
              "                }\n",
              "\n",
              "                .geemap-dark .jupyter-button {\n",
              "                    --jp-layout-color3: #383838;\n",
              "                }\n",
              "\n",
              "                .geemap-colab {\n",
              "                    background-color: var(--colab-primary-surface-color, white);\n",
              "                }\n",
              "\n",
              "                .geemap-colab .jupyter-button {\n",
              "                    --jp-layout-color3: var(--colab-primary-surface-color, white);\n",
              "                }\n",
              "            </style>\n",
              "            "
            ]
          },
          "metadata": {}
        },
        {
          "output_type": "stream",
          "name": "stdout",
          "text": [
            "Region:  Africa\n",
            "Transitions: GEZ Level 1 to WorldClim KT, Chelsa KT  (from left to right)\n"
          ]
        }
      ]
    },
    {
      "cell_type": "code",
      "source": [],
      "metadata": {
        "id": "tDb9CDL7ZZy_"
      },
      "execution_count": null,
      "outputs": []
    }
  ]
}