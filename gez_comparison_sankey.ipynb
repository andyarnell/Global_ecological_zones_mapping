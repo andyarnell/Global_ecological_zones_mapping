{
  "nbformat": 4,
  "nbformat_minor": 0,
  "metadata": {
    "colab": {
      "provenance": [],
      "authorship_tag": "ABX9TyNZogNLY9M8IAPa82+L2ZD1",
      "include_colab_link": true
    },
    "kernelspec": {
      "name": "python3",
      "display_name": "Python 3"
    },
    "language_info": {
      "name": "python"
    },
    "widgets": {
      "application/vnd.jupyter.widget-state+json": {
        "f3b4de105a9f4c4d8c30a9215bd84110": {
          "model_module": "jupyter-leaflet",
          "model_name": "LeafletMapModel",
          "model_module_version": "^0.18",
          "state": {
            "_dom_classes": [],
            "_model_module": "jupyter-leaflet",
            "_model_module_version": "^0.18",
            "_model_name": "LeafletMapModel",
            "_view_count": null,
            "_view_module": "jupyter-leaflet",
            "_view_module_version": "^0.18",
            "_view_name": "LeafletMapView",
            "bottom": 584,
            "bounce_at_zoom_limits": true,
            "box_zoom": true,
            "center": [
              -19.31114335506464,
              -7.037352494699409
            ],
            "close_popup_on_click": true,
            "controls": [
              "IPY_MODEL_caa8491c55d848b99671bc0d88c30cde",
              "IPY_MODEL_e41b148f5069412f8890352c2de3f02a",
              "IPY_MODEL_67eacf94693a449f8f57d7382ca5ab5c",
              "IPY_MODEL_e7f199e95f2a489498de9645570642f1",
              "IPY_MODEL_9974f8a3464e453cb61de59bf5b1711a",
              "IPY_MODEL_fbbb1e7c042843428237c2b927c041cb",
              "IPY_MODEL_9e09d83aecf540d79c32c5d81aa66ece",
              "IPY_MODEL_096492953376411b86d3c92bcccf9f99"
            ],
            "crs": {
              "name": "EPSG3857",
              "custom": false
            },
            "default_style": "IPY_MODEL_8436ee8dc33a41f08f7b383341557e71",
            "double_click_zoom": true,
            "dragging": true,
            "dragging_style": "IPY_MODEL_a46a37eefba145c0a2c5a37bf4e48e8d",
            "east": 397.96264750530077,
            "fullscreen": false,
            "inertia": true,
            "inertia_deceleration": 3000,
            "inertia_max_speed": 1500,
            "interpolation": "bilinear",
            "keyboard": true,
            "keyboard_pan_offset": 80,
            "keyboard_zoom_offset": 1,
            "layers": [
              "IPY_MODEL_2104f75199894196b84ee959adad7ec8",
              "IPY_MODEL_7c131ffe1660460c96e7d002f8a14d92",
              "IPY_MODEL_52d0da86d6d0443291be90a1894034b0",
              "IPY_MODEL_3a649f84ed654066bafb629b95b828a7",
              "IPY_MODEL_c2f0cec74ff1407ba471ef4a100ab93e"
            ],
            "layout": "IPY_MODEL_a00bf71d3d1c49c1a9b78e1367314c9e",
            "left": -330.00867910357243,
            "max_zoom": 24,
            "min_zoom": null,
            "modisdate": "2024-04-07",
            "north": 85.93256792029881,
            "options": [
              "bounce_at_zoom_limits",
              "box_zoom",
              "center",
              "close_popup_on_click",
              "double_click_zoom",
              "dragging",
              "fullscreen",
              "inertia",
              "inertia_deceleration",
              "inertia_max_speed",
              "interpolation",
              "keyboard",
              "keyboard_pan_offset",
              "keyboard_zoom_offset",
              "max_zoom",
              "min_zoom",
              "prefer_canvas",
              "scroll_wheel_zoom",
              "tap",
              "tap_tolerance",
              "touch_zoom",
              "world_copy_jump",
              "zoom",
              "zoom_animation_threshold",
              "zoom_delta",
              "zoom_snap"
            ],
            "panes": {},
            "prefer_canvas": false,
            "right": 821.9913208964276,
            "scroll_wheel_zoom": true,
            "south": -87.9535588895499,
            "style": "IPY_MODEL_8436ee8dc33a41f08f7b383341557e71",
            "tap": true,
            "tap_tolerance": 15,
            "top": -16,
            "touch_zoom": true,
            "west": -412.0373524946994,
            "window_url": "https://33bsluku2bl-496ff2e9c6d22116-0-colab.googleusercontent.com/outputframe.html?vrz=colab_20240404-060114_RC00_621812230",
            "world_copy_jump": false,
            "zoom": 1,
            "zoom_animation_threshold": 4,
            "zoom_delta": 1,
            "zoom_snap": 1
          }
        },
        "caa8491c55d848b99671bc0d88c30cde": {
          "model_module": "jupyter-leaflet",
          "model_name": "LeafletWidgetControlModel",
          "model_module_version": "^0.18",
          "state": {
            "_model_module": "jupyter-leaflet",
            "_model_module_version": "^0.18",
            "_model_name": "LeafletWidgetControlModel",
            "_view_count": null,
            "_view_module": "jupyter-leaflet",
            "_view_module_version": "^0.18",
            "_view_name": "LeafletWidgetControlView",
            "max_height": null,
            "max_width": null,
            "min_height": null,
            "min_width": null,
            "options": [
              "position",
              "transparent_bg"
            ],
            "position": "topleft",
            "transparent_bg": false,
            "widget": "IPY_MODEL_aacb77aa8cdd473fb42a0d0b83361049"
          }
        },
        "e41b148f5069412f8890352c2de3f02a": {
          "model_module": "jupyter-leaflet",
          "model_name": "LeafletZoomControlModel",
          "model_module_version": "^0.18",
          "state": {
            "_model_module": "jupyter-leaflet",
            "_model_module_version": "^0.18",
            "_model_name": "LeafletZoomControlModel",
            "_view_count": null,
            "_view_module": "jupyter-leaflet",
            "_view_module_version": "^0.18",
            "_view_name": "LeafletZoomControlView",
            "options": [
              "position",
              "zoom_in_text",
              "zoom_in_title",
              "zoom_out_text",
              "zoom_out_title"
            ],
            "position": "topleft",
            "zoom_in_text": "+",
            "zoom_in_title": "Zoom in",
            "zoom_out_text": "-",
            "zoom_out_title": "Zoom out"
          }
        },
        "67eacf94693a449f8f57d7382ca5ab5c": {
          "model_module": "jupyter-leaflet",
          "model_name": "LeafletFullScreenControlModel",
          "model_module_version": "^0.18",
          "state": {
            "_model_module": "jupyter-leaflet",
            "_model_module_version": "^0.18",
            "_model_name": "LeafletFullScreenControlModel",
            "_view_count": null,
            "_view_module": "jupyter-leaflet",
            "_view_module_version": "^0.18",
            "_view_name": "LeafletFullScreenControlView",
            "options": [
              "position"
            ],
            "position": "topleft"
          }
        },
        "e7f199e95f2a489498de9645570642f1": {
          "model_module": "jupyter-leaflet",
          "model_name": "LeafletDrawControlModel",
          "model_module_version": "^0.18",
          "state": {
            "_model_module": "jupyter-leaflet",
            "_model_module_version": "^0.18",
            "_model_name": "LeafletDrawControlModel",
            "_view_count": null,
            "_view_module": "jupyter-leaflet",
            "_view_module_version": "^0.18",
            "_view_name": "LeafletDrawControlView",
            "circle": {},
            "circlemarker": {},
            "data": [],
            "edit": true,
            "marker": {
              "shapeOptions": {
                "color": "#3388ff"
              }
            },
            "options": [
              "position"
            ],
            "polygon": {
              "shapeOptions": {}
            },
            "polyline": {
              "shapeOptions": {}
            },
            "position": "topleft",
            "rectangle": {
              "shapeOptions": {
                "color": "#3388ff"
              }
            },
            "remove": true
          }
        },
        "9974f8a3464e453cb61de59bf5b1711a": {
          "model_module": "jupyter-leaflet",
          "model_name": "LeafletScaleControlModel",
          "model_module_version": "^0.18",
          "state": {
            "_model_module": "jupyter-leaflet",
            "_model_module_version": "^0.18",
            "_model_name": "LeafletScaleControlModel",
            "_view_count": null,
            "_view_module": "jupyter-leaflet",
            "_view_module_version": "^0.18",
            "_view_name": "LeafletScaleControlView",
            "imperial": true,
            "max_width": 100,
            "metric": true,
            "options": [
              "imperial",
              "max_width",
              "metric",
              "position",
              "update_when_idle"
            ],
            "position": "bottomleft",
            "update_when_idle": false
          }
        },
        "fbbb1e7c042843428237c2b927c041cb": {
          "model_module": "jupyter-leaflet",
          "model_name": "LeafletMeasureControlModel",
          "model_module_version": "^0.18",
          "state": {
            "_custom_units": {},
            "_model_module": "jupyter-leaflet",
            "_model_module_version": "^0.18",
            "_model_name": "LeafletMeasureControlModel",
            "_view_count": null,
            "_view_module": "jupyter-leaflet",
            "_view_module_version": "^0.18",
            "_view_name": "LeafletMeasureControlView",
            "active_color": "orange",
            "capture_z_index": 10000,
            "completed_color": "#C8F2BE",
            "options": [
              "active_color",
              "capture_z_index",
              "completed_color",
              "popup_options",
              "position",
              "primary_area_unit",
              "primary_length_unit",
              "secondary_area_unit",
              "secondary_length_unit"
            ],
            "popup_options": {
              "className": "leaflet-measure-resultpopup",
              "autoPanPadding": [
                10,
                10
              ]
            },
            "position": "bottomleft",
            "primary_area_unit": "acres",
            "primary_length_unit": "kilometers",
            "secondary_area_unit": null,
            "secondary_length_unit": null
          }
        },
        "9e09d83aecf540d79c32c5d81aa66ece": {
          "model_module": "jupyter-leaflet",
          "model_name": "LeafletWidgetControlModel",
          "model_module_version": "^0.18",
          "state": {
            "_model_module": "jupyter-leaflet",
            "_model_module_version": "^0.18",
            "_model_name": "LeafletWidgetControlModel",
            "_view_count": null,
            "_view_module": "jupyter-leaflet",
            "_view_module_version": "^0.18",
            "_view_name": "LeafletWidgetControlView",
            "max_height": null,
            "max_width": null,
            "min_height": null,
            "min_width": null,
            "options": [
              "position",
              "transparent_bg"
            ],
            "position": "topright",
            "transparent_bg": false,
            "widget": "IPY_MODEL_4582f296d1d1498590014dd7630f0082"
          }
        },
        "096492953376411b86d3c92bcccf9f99": {
          "model_module": "jupyter-leaflet",
          "model_name": "LeafletAttributionControlModel",
          "model_module_version": "^0.18",
          "state": {
            "_model_module": "jupyter-leaflet",
            "_model_module_version": "^0.18",
            "_model_name": "LeafletAttributionControlModel",
            "_view_count": null,
            "_view_module": "jupyter-leaflet",
            "_view_module_version": "^0.18",
            "_view_name": "LeafletAttributionControlView",
            "options": [
              "position",
              "prefix"
            ],
            "position": "bottomright",
            "prefix": "ipyleaflet"
          }
        },
        "8436ee8dc33a41f08f7b383341557e71": {
          "model_module": "jupyter-leaflet",
          "model_name": "LeafletMapStyleModel",
          "model_module_version": "^0.18",
          "state": {
            "_model_module": "jupyter-leaflet",
            "_model_module_version": "^0.18",
            "_model_name": "LeafletMapStyleModel",
            "_view_count": null,
            "_view_module": "@jupyter-widgets/base",
            "_view_module_version": "1.2.0",
            "_view_name": "StyleView",
            "cursor": "grab"
          }
        },
        "a46a37eefba145c0a2c5a37bf4e48e8d": {
          "model_module": "jupyter-leaflet",
          "model_name": "LeafletMapStyleModel",
          "model_module_version": "^0.18",
          "state": {
            "_model_module": "jupyter-leaflet",
            "_model_module_version": "^0.18",
            "_model_name": "LeafletMapStyleModel",
            "_view_count": null,
            "_view_module": "@jupyter-widgets/base",
            "_view_module_version": "1.2.0",
            "_view_name": "StyleView",
            "cursor": "move"
          }
        },
        "2104f75199894196b84ee959adad7ec8": {
          "model_module": "jupyter-leaflet",
          "model_name": "LeafletTileLayerModel",
          "model_module_version": "^0.18",
          "state": {
            "_model_module": "jupyter-leaflet",
            "_model_module_version": "^0.18",
            "_model_name": "LeafletTileLayerModel",
            "_view_count": null,
            "_view_module": "jupyter-leaflet",
            "_view_module_version": "^0.18",
            "_view_name": "LeafletTileLayerView",
            "attribution": "&copy; <a href=\"https://www.openstreetmap.org/copyright\">OpenStreetMap</a> contributors",
            "base": true,
            "bottom": true,
            "bounds": null,
            "detect_retina": false,
            "loading": false,
            "max_native_zoom": null,
            "max_zoom": 19,
            "min_native_zoom": null,
            "min_zoom": 1,
            "name": "OpenStreetMap.Mapnik",
            "no_wrap": false,
            "opacity": 1,
            "options": [
              "attribution",
              "bounds",
              "detect_retina",
              "max_native_zoom",
              "max_zoom",
              "min_native_zoom",
              "min_zoom",
              "no_wrap",
              "tile_size",
              "tms",
              "zoom_offset"
            ],
            "pane": "",
            "popup": null,
            "popup_max_height": null,
            "popup_max_width": 300,
            "popup_min_width": 50,
            "show_loading": false,
            "subitems": [],
            "tile_size": 256,
            "tms": false,
            "url": "https://tile.openstreetmap.org/{z}/{x}/{y}.png",
            "visible": true,
            "zoom_offset": 0
          }
        },
        "7c131ffe1660460c96e7d002f8a14d92": {
          "model_module": "jupyter-leaflet",
          "model_name": "LeafletTileLayerModel",
          "model_module_version": "^0.18",
          "state": {
            "_model_module": "jupyter-leaflet",
            "_model_module_version": "^0.18",
            "_model_name": "LeafletTileLayerModel",
            "_view_count": null,
            "_view_module": "jupyter-leaflet",
            "_view_module_version": "^0.18",
            "_view_name": "LeafletTileLayerView",
            "attribution": "Google Earth Engine",
            "base": false,
            "bottom": true,
            "bounds": null,
            "detect_retina": false,
            "loading": false,
            "max_native_zoom": null,
            "max_zoom": 24,
            "min_native_zoom": null,
            "min_zoom": 0,
            "name": "gez_2010_level1",
            "no_wrap": false,
            "opacity": 1,
            "options": [
              "attribution",
              "bounds",
              "detect_retina",
              "max_native_zoom",
              "max_zoom",
              "min_native_zoom",
              "min_zoom",
              "no_wrap",
              "tile_size",
              "tms",
              "zoom_offset"
            ],
            "pane": "",
            "popup": null,
            "popup_max_height": null,
            "popup_max_width": 300,
            "popup_min_width": 50,
            "show_loading": false,
            "subitems": [],
            "tile_size": 256,
            "tms": false,
            "url": "https://earthengine.googleapis.com/v1/projects/ee-andyarnellgee/maps/43f226e20b54550c1029928ff37dfbf6-b4650e9e90f0d214dbd8d1f9d661b2ca/tiles/{z}/{x}/{y}",
            "visible": true,
            "zoom_offset": 0
          }
        },
        "52d0da86d6d0443291be90a1894034b0": {
          "model_module": "jupyter-leaflet",
          "model_name": "LeafletTileLayerModel",
          "model_module_version": "^0.18",
          "state": {
            "_model_module": "jupyter-leaflet",
            "_model_module_version": "^0.18",
            "_model_name": "LeafletTileLayerModel",
            "_view_count": null,
            "_view_module": "jupyter-leaflet",
            "_view_module_version": "^0.18",
            "_view_name": "LeafletTileLayerView",
            "attribution": "Google Earth Engine",
            "base": false,
            "bottom": true,
            "bounds": null,
            "detect_retina": false,
            "loading": false,
            "max_native_zoom": null,
            "max_zoom": 24,
            "min_native_zoom": null,
            "min_zoom": 0,
            "name": "Worldclim Köppen-Trewartha Climate Zones",
            "no_wrap": false,
            "opacity": 1,
            "options": [
              "attribution",
              "bounds",
              "detect_retina",
              "max_native_zoom",
              "max_zoom",
              "min_native_zoom",
              "min_zoom",
              "no_wrap",
              "tile_size",
              "tms",
              "zoom_offset"
            ],
            "pane": "",
            "popup": null,
            "popup_max_height": null,
            "popup_max_width": 300,
            "popup_min_width": 50,
            "show_loading": false,
            "subitems": [],
            "tile_size": 256,
            "tms": false,
            "url": "https://earthengine.googleapis.com/v1/projects/ee-andyarnellgee/maps/eb1acbec29b7479a508affb21bfdfeec-41bd87a6ba818aa1aeaf1d12d3e28e14/tiles/{z}/{x}/{y}",
            "visible": true,
            "zoom_offset": 0
          }
        },
        "3a649f84ed654066bafb629b95b828a7": {
          "model_module": "jupyter-leaflet",
          "model_name": "LeafletTileLayerModel",
          "model_module_version": "^0.18",
          "state": {
            "_model_module": "jupyter-leaflet",
            "_model_module_version": "^0.18",
            "_model_name": "LeafletTileLayerModel",
            "_view_count": null,
            "_view_module": "jupyter-leaflet",
            "_view_module_version": "^0.18",
            "_view_name": "LeafletTileLayerView",
            "attribution": "Google Earth Engine",
            "base": false,
            "bottom": true,
            "bounds": null,
            "detect_retina": false,
            "loading": false,
            "max_native_zoom": null,
            "max_zoom": 24,
            "min_native_zoom": null,
            "min_zoom": 0,
            "name": "Chelsa Köppen-Trewartha Climate Zones",
            "no_wrap": false,
            "opacity": 1,
            "options": [
              "attribution",
              "bounds",
              "detect_retina",
              "max_native_zoom",
              "max_zoom",
              "min_native_zoom",
              "min_zoom",
              "no_wrap",
              "tile_size",
              "tms",
              "zoom_offset"
            ],
            "pane": "",
            "popup": null,
            "popup_max_height": null,
            "popup_max_width": 300,
            "popup_min_width": 50,
            "show_loading": false,
            "subitems": [],
            "tile_size": 256,
            "tms": false,
            "url": "https://earthengine.googleapis.com/v1/projects/ee-andyarnellgee/maps/3597d14642aab57be58e35c932b178ff-f29e9703c746550c031e04ecdfdb3466/tiles/{z}/{x}/{y}",
            "visible": true,
            "zoom_offset": 0
          }
        },
        "c2f0cec74ff1407ba471ef4a100ab93e": {
          "model_module": "jupyter-leaflet",
          "model_name": "LeafletTileLayerModel",
          "model_module_version": "^0.18",
          "state": {
            "_model_module": "jupyter-leaflet",
            "_model_module_version": "^0.18",
            "_model_name": "LeafletTileLayerModel",
            "_view_count": null,
            "_view_module": "jupyter-leaflet",
            "_view_module_version": "^0.18",
            "_view_name": "LeafletTileLayerView",
            "attribution": "Google Earth Engine",
            "base": false,
            "bottom": true,
            "bounds": null,
            "detect_retina": false,
            "loading": false,
            "max_native_zoom": null,
            "max_zoom": 24,
            "min_native_zoom": null,
            "min_zoom": 0,
            "name": "Layer 4",
            "no_wrap": false,
            "opacity": 1,
            "options": [
              "attribution",
              "bounds",
              "detect_retina",
              "max_native_zoom",
              "max_zoom",
              "min_native_zoom",
              "min_zoom",
              "no_wrap",
              "tile_size",
              "tms",
              "zoom_offset"
            ],
            "pane": "",
            "popup": null,
            "popup_max_height": null,
            "popup_max_width": 300,
            "popup_min_width": 50,
            "show_loading": false,
            "subitems": [],
            "tile_size": 256,
            "tms": false,
            "url": "https://earthengine.googleapis.com/v1/projects/ee-andyarnellgee/maps/476dca9081a1ab56865feacd29085066-ce2cbea9093c01b4d54e2dbed7690941/tiles/{z}/{x}/{y}",
            "visible": true,
            "zoom_offset": 0
          }
        },
        "a00bf71d3d1c49c1a9b78e1367314c9e": {
          "model_module": "@jupyter-widgets/base",
          "model_name": "LayoutModel",
          "model_module_version": "1.2.0",
          "state": {
            "_model_module": "@jupyter-widgets/base",
            "_model_module_version": "1.2.0",
            "_model_name": "LayoutModel",
            "_view_count": null,
            "_view_module": "@jupyter-widgets/base",
            "_view_module_version": "1.2.0",
            "_view_name": "LayoutView",
            "align_content": null,
            "align_items": null,
            "align_self": null,
            "border": null,
            "bottom": null,
            "display": null,
            "flex": null,
            "flex_flow": null,
            "grid_area": null,
            "grid_auto_columns": null,
            "grid_auto_flow": null,
            "grid_auto_rows": null,
            "grid_column": null,
            "grid_gap": null,
            "grid_row": null,
            "grid_template_areas": null,
            "grid_template_columns": null,
            "grid_template_rows": null,
            "height": "600px",
            "justify_content": null,
            "justify_items": null,
            "left": null,
            "margin": null,
            "max_height": null,
            "max_width": null,
            "min_height": null,
            "min_width": null,
            "object_fit": null,
            "object_position": null,
            "order": null,
            "overflow": null,
            "overflow_x": null,
            "overflow_y": null,
            "padding": null,
            "right": null,
            "top": null,
            "visibility": null,
            "width": null
          }
        },
        "122a0b75ef2c423488aed64df11d9247": {
          "model_module": "jupyter-leaflet",
          "model_name": "LeafletMapStyleModel",
          "model_module_version": "^0.18",
          "state": {
            "_model_module": "jupyter-leaflet",
            "_model_module_version": "^0.18",
            "_model_name": "LeafletMapStyleModel",
            "_view_count": null,
            "_view_module": "@jupyter-widgets/base",
            "_view_module_version": "1.2.0",
            "_view_name": "StyleView",
            "cursor": "grab"
          }
        },
        "aacb77aa8cdd473fb42a0d0b83361049": {
          "model_module": "@jupyter-widgets/controls",
          "model_name": "HBoxModel",
          "model_module_version": "1.5.0",
          "state": {
            "_dom_classes": [
              "geemap-colab"
            ],
            "_model_module": "@jupyter-widgets/controls",
            "_model_module_version": "1.5.0",
            "_model_name": "HBoxModel",
            "_view_count": null,
            "_view_module": "@jupyter-widgets/controls",
            "_view_module_version": "1.5.0",
            "_view_name": "HBoxView",
            "box_style": "",
            "children": [
              "IPY_MODEL_e9ab6fafe63b46eab41cd1358cfcfd98"
            ],
            "layout": "IPY_MODEL_416a48fd0b2f44ee9a3e3666a0b2b0cf"
          }
        },
        "4582f296d1d1498590014dd7630f0082": {
          "model_module": "@jupyter-widgets/controls",
          "model_name": "VBoxModel",
          "model_module_version": "1.5.0",
          "state": {
            "_dom_classes": [
              "geemap-colab"
            ],
            "_model_module": "@jupyter-widgets/controls",
            "_model_module_version": "1.5.0",
            "_model_name": "VBoxModel",
            "_view_count": null,
            "_view_module": "@jupyter-widgets/controls",
            "_view_module_version": "1.5.0",
            "_view_name": "VBoxView",
            "box_style": "",
            "children": [
              "IPY_MODEL_db59e4f8e87a409cad42c344610f553a"
            ],
            "layout": "IPY_MODEL_c9c108a98ba54a22ac081da2a78efdc0"
          }
        },
        "e9ab6fafe63b46eab41cd1358cfcfd98": {
          "model_module": "@jupyter-widgets/controls",
          "model_name": "ToggleButtonModel",
          "model_module_version": "1.5.0",
          "state": {
            "_dom_classes": [],
            "_model_module": "@jupyter-widgets/controls",
            "_model_module_version": "1.5.0",
            "_model_name": "ToggleButtonModel",
            "_view_count": null,
            "_view_module": "@jupyter-widgets/controls",
            "_view_module_version": "1.5.0",
            "_view_name": "ToggleButtonView",
            "button_style": "",
            "description": "",
            "description_tooltip": null,
            "disabled": false,
            "icon": "globe",
            "layout": "IPY_MODEL_8bc60649411242e3a6dd86a17ac40af4",
            "style": "IPY_MODEL_1b352a86240e44e5925dc0b9e88c59d8",
            "tooltip": "Search location/data",
            "value": false
          }
        },
        "416a48fd0b2f44ee9a3e3666a0b2b0cf": {
          "model_module": "@jupyter-widgets/base",
          "model_name": "LayoutModel",
          "model_module_version": "1.2.0",
          "state": {
            "_model_module": "@jupyter-widgets/base",
            "_model_module_version": "1.2.0",
            "_model_name": "LayoutModel",
            "_view_count": null,
            "_view_module": "@jupyter-widgets/base",
            "_view_module_version": "1.2.0",
            "_view_name": "LayoutView",
            "align_content": null,
            "align_items": null,
            "align_self": null,
            "border": null,
            "bottom": null,
            "display": null,
            "flex": null,
            "flex_flow": null,
            "grid_area": null,
            "grid_auto_columns": null,
            "grid_auto_flow": null,
            "grid_auto_rows": null,
            "grid_column": null,
            "grid_gap": null,
            "grid_row": null,
            "grid_template_areas": null,
            "grid_template_columns": null,
            "grid_template_rows": null,
            "height": null,
            "justify_content": null,
            "justify_items": null,
            "left": null,
            "margin": null,
            "max_height": null,
            "max_width": null,
            "min_height": null,
            "min_width": null,
            "object_fit": null,
            "object_position": null,
            "order": null,
            "overflow": null,
            "overflow_x": null,
            "overflow_y": null,
            "padding": null,
            "right": null,
            "top": null,
            "visibility": null,
            "width": null
          }
        },
        "db59e4f8e87a409cad42c344610f553a": {
          "model_module": "@jupyter-widgets/controls",
          "model_name": "ToggleButtonModel",
          "model_module_version": "1.5.0",
          "state": {
            "_dom_classes": [],
            "_model_module": "@jupyter-widgets/controls",
            "_model_module_version": "1.5.0",
            "_model_name": "ToggleButtonModel",
            "_view_count": null,
            "_view_module": "@jupyter-widgets/controls",
            "_view_module_version": "1.5.0",
            "_view_name": "ToggleButtonView",
            "button_style": "",
            "description": "",
            "description_tooltip": null,
            "disabled": false,
            "icon": "wrench",
            "layout": "IPY_MODEL_3196354d731a47d09d76a49d66bb4954",
            "style": "IPY_MODEL_39d97d5be4ce45688e5400482583c88e",
            "tooltip": "Toolbar",
            "value": false
          }
        },
        "c9c108a98ba54a22ac081da2a78efdc0": {
          "model_module": "@jupyter-widgets/base",
          "model_name": "LayoutModel",
          "model_module_version": "1.2.0",
          "state": {
            "_model_module": "@jupyter-widgets/base",
            "_model_module_version": "1.2.0",
            "_model_name": "LayoutModel",
            "_view_count": null,
            "_view_module": "@jupyter-widgets/base",
            "_view_module_version": "1.2.0",
            "_view_name": "LayoutView",
            "align_content": null,
            "align_items": null,
            "align_self": null,
            "border": null,
            "bottom": null,
            "display": null,
            "flex": null,
            "flex_flow": null,
            "grid_area": null,
            "grid_auto_columns": null,
            "grid_auto_flow": null,
            "grid_auto_rows": null,
            "grid_column": null,
            "grid_gap": null,
            "grid_row": null,
            "grid_template_areas": null,
            "grid_template_columns": null,
            "grid_template_rows": null,
            "height": null,
            "justify_content": null,
            "justify_items": null,
            "left": null,
            "margin": null,
            "max_height": null,
            "max_width": null,
            "min_height": null,
            "min_width": null,
            "object_fit": null,
            "object_position": null,
            "order": null,
            "overflow": null,
            "overflow_x": null,
            "overflow_y": null,
            "padding": null,
            "right": null,
            "top": null,
            "visibility": null,
            "width": null
          }
        },
        "8bc60649411242e3a6dd86a17ac40af4": {
          "model_module": "@jupyter-widgets/base",
          "model_name": "LayoutModel",
          "model_module_version": "1.2.0",
          "state": {
            "_model_module": "@jupyter-widgets/base",
            "_model_module_version": "1.2.0",
            "_model_name": "LayoutModel",
            "_view_count": null,
            "_view_module": "@jupyter-widgets/base",
            "_view_module_version": "1.2.0",
            "_view_name": "LayoutView",
            "align_content": null,
            "align_items": null,
            "align_self": null,
            "border": null,
            "bottom": null,
            "display": null,
            "flex": null,
            "flex_flow": null,
            "grid_area": null,
            "grid_auto_columns": null,
            "grid_auto_flow": null,
            "grid_auto_rows": null,
            "grid_column": null,
            "grid_gap": null,
            "grid_row": null,
            "grid_template_areas": null,
            "grid_template_columns": null,
            "grid_template_rows": null,
            "height": "28px",
            "justify_content": null,
            "justify_items": null,
            "left": null,
            "margin": null,
            "max_height": null,
            "max_width": null,
            "min_height": null,
            "min_width": null,
            "object_fit": null,
            "object_position": null,
            "order": null,
            "overflow": null,
            "overflow_x": null,
            "overflow_y": null,
            "padding": "0px 0px 0px 4px",
            "right": null,
            "top": null,
            "visibility": null,
            "width": "28px"
          }
        },
        "1b352a86240e44e5925dc0b9e88c59d8": {
          "model_module": "@jupyter-widgets/controls",
          "model_name": "DescriptionStyleModel",
          "model_module_version": "1.5.0",
          "state": {
            "_model_module": "@jupyter-widgets/controls",
            "_model_module_version": "1.5.0",
            "_model_name": "DescriptionStyleModel",
            "_view_count": null,
            "_view_module": "@jupyter-widgets/base",
            "_view_module_version": "1.2.0",
            "_view_name": "StyleView",
            "description_width": ""
          }
        },
        "3196354d731a47d09d76a49d66bb4954": {
          "model_module": "@jupyter-widgets/base",
          "model_name": "LayoutModel",
          "model_module_version": "1.2.0",
          "state": {
            "_model_module": "@jupyter-widgets/base",
            "_model_module_version": "1.2.0",
            "_model_name": "LayoutModel",
            "_view_count": null,
            "_view_module": "@jupyter-widgets/base",
            "_view_module_version": "1.2.0",
            "_view_name": "LayoutView",
            "align_content": null,
            "align_items": null,
            "align_self": null,
            "border": null,
            "bottom": null,
            "display": null,
            "flex": null,
            "flex_flow": null,
            "grid_area": null,
            "grid_auto_columns": null,
            "grid_auto_flow": null,
            "grid_auto_rows": null,
            "grid_column": null,
            "grid_gap": null,
            "grid_row": null,
            "grid_template_areas": null,
            "grid_template_columns": null,
            "grid_template_rows": null,
            "height": "28px",
            "justify_content": null,
            "justify_items": null,
            "left": null,
            "margin": null,
            "max_height": null,
            "max_width": null,
            "min_height": null,
            "min_width": null,
            "object_fit": null,
            "object_position": null,
            "order": null,
            "overflow": null,
            "overflow_x": null,
            "overflow_y": null,
            "padding": "0px 0px 0px 4px",
            "right": null,
            "top": null,
            "visibility": null,
            "width": "28px"
          }
        },
        "39d97d5be4ce45688e5400482583c88e": {
          "model_module": "@jupyter-widgets/controls",
          "model_name": "DescriptionStyleModel",
          "model_module_version": "1.5.0",
          "state": {
            "_model_module": "@jupyter-widgets/controls",
            "_model_module_version": "1.5.0",
            "_model_name": "DescriptionStyleModel",
            "_view_count": null,
            "_view_module": "@jupyter-widgets/base",
            "_view_module_version": "1.2.0",
            "_view_name": "StyleView",
            "description_width": ""
          }
        }
      }
    }
  },
  "cells": [
    {
      "cell_type": "markdown",
      "metadata": {
        "id": "view-in-github",
        "colab_type": "text"
      },
      "source": [
        "<a href=\"https://colab.research.google.com/github/andyarnell/Global_ecological_zones_mapping/blob/main/gez_comparison_sankey.ipynb\" target=\"_parent\"><img src=\"https://colab.research.google.com/assets/colab-badge.svg\" alt=\"Open In Colab\"/></a>"
      ]
    },
    {
      "cell_type": "markdown",
      "source": [
        "### Aim: create Sankey plots to illustrate magnitude of climate zone changes to help compare GEZ update options"
      ],
      "metadata": {
        "id": "uDxNsLizmabI"
      }
    },
    {
      "cell_type": "code",
      "execution_count": 1,
      "metadata": {
        "colab": {
          "base_uri": "https://localhost:8080/",
          "height": 52
        },
        "id": "0rZEiP5dcQ15",
        "outputId": "4ec4b560-ca44-4d74-b290-0924881e56ba"
      },
      "outputs": [
        {
          "output_type": "stream",
          "name": "stdout",
          "text": [
            "\u001b[?25l     \u001b[90m━━━━━━━━━━━━━━━━━━━━━━━━━━━━━━━━━━━━━━━━\u001b[0m \u001b[32m0.0/1.6 MB\u001b[0m \u001b[31m?\u001b[0m eta \u001b[36m-:--:--\u001b[0m\r\u001b[2K     \u001b[91m━━\u001b[0m\u001b[90m╺\u001b[0m\u001b[90m━━━━━━━━━━━━━━━━━━━━━━━━━━━━━━━━━━━━━\u001b[0m \u001b[32m0.1/1.6 MB\u001b[0m \u001b[31m2.4 MB/s\u001b[0m eta \u001b[36m0:00:01\u001b[0m\r\u001b[2K     \u001b[91m━━━━━━━\u001b[0m\u001b[91m╸\u001b[0m\u001b[90m━━━━━━━━━━━━━━━━━━━━━━━━━━━━━━━━\u001b[0m \u001b[32m0.3/1.6 MB\u001b[0m \u001b[31m4.2 MB/s\u001b[0m eta \u001b[36m0:00:01\u001b[0m\r\u001b[2K     \u001b[91m━━━━━━━━━━━━━━\u001b[0m\u001b[91m╸\u001b[0m\u001b[90m━━━━━━━━━━━━━━━━━━━━━━━━━\u001b[0m \u001b[32m0.6/1.6 MB\u001b[0m \u001b[31m5.3 MB/s\u001b[0m eta \u001b[36m0:00:01\u001b[0m\r\u001b[2K     \u001b[91m━━━━━━━━━━━━━━━━━━━━━━\u001b[0m\u001b[91m╸\u001b[0m\u001b[90m━━━━━━━━━━━━━━━━━\u001b[0m \u001b[32m0.9/1.6 MB\u001b[0m \u001b[31m6.2 MB/s\u001b[0m eta \u001b[36m0:00:01\u001b[0m\r\u001b[2K     \u001b[91m━━━━━━━━━━━━━━━━━━━━━━━━━━━━━━━━━\u001b[0m\u001b[90m╺\u001b[0m\u001b[90m━━━━━━\u001b[0m \u001b[32m1.3/1.6 MB\u001b[0m \u001b[31m7.2 MB/s\u001b[0m eta \u001b[36m0:00:01\u001b[0m\r\u001b[2K     \u001b[91m━━━━━━━━━━━━━━━━━━━━━━━━━━━━━━━━━━━━━━━\u001b[0m\u001b[91m╸\u001b[0m \u001b[32m1.6/1.6 MB\u001b[0m \u001b[31m7.7 MB/s\u001b[0m eta \u001b[36m0:00:01\u001b[0m\r\u001b[2K     \u001b[90m━━━━━━━━━━━━━━━━━━━━━━━━━━━━━━━━━━━━━━━━\u001b[0m \u001b[32m1.6/1.6 MB\u001b[0m \u001b[31m7.0 MB/s\u001b[0m eta \u001b[36m0:00:00\u001b[0m\n",
            "\u001b[?25hsankee has been installed.\n"
          ]
        }
      ],
      "source": [
        "# Function to install a package if it's not already installed\n",
        "def install_if_not_exists(package_name):\n",
        "    try:\n",
        "        __import__(package_name)\n",
        "        print(f\"{package_name} is already installed.\")\n",
        "    except ImportError:\n",
        "        !pip install -q {package_name}\n",
        "        print(f\"{package_name} has been installed.\")\n",
        "\n",
        "install_if_not_exists(\"sankee\")\n",
        "\n",
        "import sankee\n",
        "\n",
        "import ee # google earth engine\n",
        "import geemap\n",
        "from google.colab import output\n",
        "output.enable_custom_widget_manager()\n",
        "\n",
        "gee_project_name = \"ee-andyarnellgee\"\n",
        "\n",
        "ee.Authenticate()\n",
        "\n",
        "ee.Initialize(project=gee_project_name)\n",
        "\n"
      ]
    },
    {
      "cell_type": "code",
      "source": [
        "chelsa_climate_1981_2010 = ee.ImageCollection(\"projects/ee-andyarnellgee/assets/p0001_global_ecological_zones_update/raw/chelsa_tas_1981_2010\");\n",
        "chelsa_pet = ee.Image(\"projects/ee-andyarnellgee/assets/p0001_global_ecological_zones_update/raw/chelsa_pet_penman_mean_1981-2010_V_2_1\");\n",
        "worldclim_climate = ee.ImageCollection(\"WORLDCLIM/V1/MONTHLY\");\n",
        "terraclimate = ee.ImageCollection(\"IDAHO_EPSCOR/TERRACLIMATE\");\n",
        "mountain_belts = ee.Image(\"users/xavidelamo/SDG1542_Mntn_BioclimaticBelts\");\n",
        "hzl_contemp = ee.Image(\"projects/ee-andyarnellgee/assets/p0001_global_ecological_zones_update/raw/life_zones_contemporary\");\n",
        "# admin = ee.FeatureCollection(\"FAO/GAUL_SIMPLIFIED_500m/2015/level0\");\n",
        "# table = ee.FeatureCollection(\"USDOS/LSIB_SIMPLE/2017\");"
      ],
      "metadata": {
        "colab": {
          "base_uri": "https://localhost:8080/",
          "height": 17
        },
        "id": "ZYQjGxnklfaI",
        "outputId": "9bb1844c-9b0e-43ec-ea36-0620cf436989"
      },
      "execution_count": 3,
      "outputs": [
        {
          "output_type": "display_data",
          "data": {
            "text/plain": [
              "<IPython.core.display.HTML object>"
            ],
            "text/html": [
              "\n",
              "            <style>\n",
              "                .geemap-dark {\n",
              "                    --jp-widgets-color: white;\n",
              "                    --jp-widgets-label-color: white;\n",
              "                    --jp-ui-font-color1: white;\n",
              "                    --jp-layout-color2: #454545;\n",
              "                    background-color: #383838;\n",
              "                }\n",
              "\n",
              "                .geemap-dark .jupyter-button {\n",
              "                    --jp-layout-color3: #383838;\n",
              "                }\n",
              "\n",
              "                .geemap-colab {\n",
              "                    background-color: var(--colab-primary-surface-color, white);\n",
              "                }\n",
              "\n",
              "                .geemap-colab .jupyter-button {\n",
              "                    --jp-layout-color3: var(--colab-primary-surface-color, white);\n",
              "                }\n",
              "            </style>\n",
              "            "
            ]
          },
          "metadata": {}
        }
      ]
    },
    {
      "cell_type": "code",
      "source": [
        "import ee\n",
        "\n",
        "# Initialize the Earth Engine module\n",
        "ee.Initialize()\n",
        "\n",
        "# Function to calculate number of months above a temperature threshold\n",
        "def calc_number_of_months_above(monthly_image_col, band_name_tavg, temp_threshold):\n",
        "    def map_threshold(image):\n",
        "        image_tavg = image.select(band_name_tavg)\n",
        "        image_gte_thresh = image_tavg.gte(temp_threshold)\n",
        "        return image_gte_thresh\n",
        "\n",
        "    monthly_image_col_tavg = monthly_image_col.select(band_name_tavg)\n",
        "    monthly_image_col_tavg_gte_thresh = monthly_image_col_tavg.map(map_threshold)\n",
        "    count_of_months_above = monthly_image_col_tavg_gte_thresh.sum()\n",
        "    return count_of_months_above\n",
        "\n",
        "# Function to classify Köppen-Trewartha climate zones\n",
        "def classify_koppen_trewartha(monthly_image_col, band_name_tavg, prec_avg, pet_avg, high_thresh, low_thresh):\n",
        "    # Calculate number of months above 18 degrees and 10 degrees\n",
        "    number_of_months_above_18_degrees = calc_number_of_months_above(monthly_image_col, band_name_tavg, high_thresh)\n",
        "    number_of_months_above_10_degrees = calc_number_of_months_above(monthly_image_col, band_name_tavg, low_thresh)\n",
        "\n",
        "    # Define Köppen-Trewartha rules\n",
        "    threshold_18_deg = 12  # standard kt val :12 (but for toggling to get similar to GEZ level 1, 8 is closer!)\n",
        "    high_threshold_10_deg = 8  # standard kt val :8\n",
        "    middle_threshold_10_deg = 4  # standard kt val :4\n",
        "    low_threshold_10_deg = 1  # standard kt val : 1\n",
        "\n",
        "    # Define Köppen-Trewartha rules\n",
        "    tropical = number_of_months_above_18_degrees.gte(threshold_18_deg)\n",
        "    subtropical = number_of_months_above_10_degrees.gte(high_threshold_10_deg).And(number_of_months_above_18_degrees.lt(threshold_18_deg))\n",
        "    temperate = number_of_months_above_10_degrees.gte(middle_threshold_10_deg).And(number_of_months_above_10_degrees.lt(high_threshold_10_deg))\n",
        "    boreal = number_of_months_above_10_degrees.gte(low_threshold_10_deg).And(number_of_months_above_10_degrees.lt(middle_threshold_10_deg))\n",
        "    polar = number_of_months_above_10_degrees.lt(low_threshold_10_deg)\n",
        "\n",
        "    # Combine rules to create zones\n",
        "    koppenTrewarthaZones = ee.Image(0) \\\n",
        "        .where(tropical, 1) \\\n",
        "        .where(subtropical, 2) \\\n",
        "        .where(temperate, 3) \\\n",
        "        .where(boreal, 4) \\\n",
        "        .where(polar, 5) \\\n",
        "        .selfMask()\n",
        "\n",
        "    # Return the image with Köppen-Trewartha zones\n",
        "    return koppenTrewarthaZones.rename('koppen_trewartha')\n",
        "\n",
        "\n",
        "\n",
        "# Data prep\n",
        "\n",
        "# Potential evapotranspiration\n",
        "terraclimate_pet_avg = terraclimate.select('pet').filter(ee.Filter.date('1960-01-01', '1991-01-01')).mean()\n",
        "\n",
        "# Precipitation\n",
        "worldclim_climate_prec_avg = worldclim_climate.select('prec').mean()\n",
        "\n",
        "# Mountains\n",
        "mountains = mountain_belts.gt(1)\n",
        "\n",
        "# Analysis\n",
        "# Apply classify_koppen_trewartha function to worldclim\n",
        "worldclim_koppen_trewartha = classify_koppen_trewartha(worldclim_climate,\n",
        "                                                      'tavg',\n",
        "                                                      worldclim_climate_prec_avg,\n",
        "                                                      terraclimate_pet_avg,  # as not included in worldclim\n",
        "                                                      180,\n",
        "                                                      100)\n",
        "\n",
        "# Apply classify_koppen_trewartha function to chelsa\n",
        "chelsa_koppen_trewartha = classify_koppen_trewartha(chelsa_climate_1981_2010,\n",
        "                                                      'b1',\n",
        "                                                      worldclim_climate_prec_avg,  # using for temp interim\n",
        "                                                      chelsa_pet,\n",
        "                                                      18,\n",
        "                                                      10)\n",
        "\n",
        "# Mask to terrestrial areas (based on worldclim extent for now)\n",
        "chelsa_koppen_trewartha = chelsa_koppen_trewartha.updateMask(worldclim_koppen_trewartha.gt(0))\n",
        "\n",
        "# Make a version with mountains included (based on an asset used for reporting mountain green cover index)\n",
        "chelsa_koppen_trewartha_w_mountains = chelsa_koppen_trewartha.where(mountains, 6)\n",
        "worldclim_koppen_trewartha_w_mountains = worldclim_koppen_trewartha.where(mountains, 6)\n"
      ],
      "metadata": {
        "colab": {
          "base_uri": "https://localhost:8080/",
          "height": 17
        },
        "id": "kR8QDcLJl5u2",
        "outputId": "ba9885ec-0f5a-43f0-9f72-72334b7fd98e"
      },
      "execution_count": 15,
      "outputs": [
        {
          "output_type": "display_data",
          "data": {
            "text/plain": [
              "<IPython.core.display.HTML object>"
            ],
            "text/html": [
              "\n",
              "            <style>\n",
              "                .geemap-dark {\n",
              "                    --jp-widgets-color: white;\n",
              "                    --jp-widgets-label-color: white;\n",
              "                    --jp-ui-font-color1: white;\n",
              "                    --jp-layout-color2: #454545;\n",
              "                    background-color: #383838;\n",
              "                }\n",
              "\n",
              "                .geemap-dark .jupyter-button {\n",
              "                    --jp-layout-color3: #383838;\n",
              "                }\n",
              "\n",
              "                .geemap-colab {\n",
              "                    background-color: var(--colab-primary-surface-color, white);\n",
              "                }\n",
              "\n",
              "                .geemap-colab .jupyter-button {\n",
              "                    --jp-layout-color3: var(--colab-primary-surface-color, white);\n",
              "                }\n",
              "            </style>\n",
              "            "
            ]
          },
          "metadata": {}
        }
      ]
    },
    {
      "cell_type": "code",
      "source": [
        "# Load the existing GEZ data showing level 2\n",
        "gez_2010_level2 = ee.Image('users/bornToBeAlive/gez_2010_wgs84').selfMask()\n",
        "\n",
        "# Load the existing GEZ data showing level 1 (approximate climate zones)\n",
        "gez_2010_level1 = gez_2010_level2.divide(10).floor().int().selfMask()\n",
        "\n",
        "# Load the Holdridge Life Zones (adapted from Elsen et al 2022)\n",
        "hzl_contemp = ee.Image(\"Your_Holdridge_Life_Zones_Image\")  # Replace \"Your_Holdridge_Life_Zones_Image\" with the actual image asset ID\n",
        "\n",
        "# Create a simplified version of the Holdridge Life Zones to approximate GEZ level 1\n",
        "hzl_contemp_simple = hzl_contemp.divide(10).floor().int().selfMask()\n",
        "\n",
        "# Create a map\n",
        "Map = geemap.Map()\n",
        "\n",
        "# Add layers to the map\n",
        "# Map.addLayer(gez_2010_level2.randomVisualizer(), {}, \"gez_2010_level2\")\n",
        "Map.addLayer(gez_2010_level1.randomVisualizer(), {}, \"gez_2010_level1\")\n",
        "\n",
        "# Add data-driven zones based on climate datasets\n",
        "Map.addLayer(worldclim_koppen_trewartha.select('koppen_trewartha').randomVisualizer(),{},'Worldclim Köppen-Trewartha Climate Zones');\n",
        "\n",
        "Map.addLayer(chelsa_koppen_trewartha.select('koppen_trewartha').randomVisualizer(),{},'Chelsa Köppen-Trewartha Climate Zones');\n",
        "\n",
        "# Map.addLayer(hzl_contemp, {}, \"life zones contemporary - all\")\n",
        "# Map.addLayer(hzl_contemp_simple, {}, \"life zones contemporary - simple\")\n",
        "\n",
        "\n",
        "# # Load two images\n",
        "# pre = ee.Image(\"GOOGLE/DYNAMICWORLD/V1/20200904T185921_20200904T190750_T10TEQ\")\n",
        "# post = ee.Image(\"GOOGLE/DYNAMICWORLD/V1/20201009T190319_20201009T190349_T10TEQ\")\n",
        "aoi = ee.Geometry.Point([-122.30239918572622, 44.802882471354316]).buffer(5000000)\n",
        "\n",
        "xMin=-180\n",
        "yMin=-90\n",
        "xMax=180\n",
        "yMax=90\n",
        "\n",
        "# aoi = ee.Geometry.Polygon([xMin, yMin, xMax, yMax], None,False)\n",
        "aoi = ee.Geometry.Polygon([\n",
        "    [-180, 90], [0, 90], [180, 90],\n",
        "    [180,-90], [0, -90], [-180,-90]],\n",
        "    None, False);\n",
        "\n",
        "print (aoi.getInfo())\n",
        "# print(pre.bandNames().getInfo())\n",
        "Map.addLayer(aoi)\n",
        "# Display the map\n",
        "Map\n"
      ],
      "metadata": {
        "colab": {
          "base_uri": "https://localhost:8080/",
          "height": 638,
          "referenced_widgets": [
            "f3b4de105a9f4c4d8c30a9215bd84110",
            "caa8491c55d848b99671bc0d88c30cde",
            "e41b148f5069412f8890352c2de3f02a",
            "67eacf94693a449f8f57d7382ca5ab5c",
            "e7f199e95f2a489498de9645570642f1",
            "9974f8a3464e453cb61de59bf5b1711a",
            "fbbb1e7c042843428237c2b927c041cb",
            "9e09d83aecf540d79c32c5d81aa66ece",
            "096492953376411b86d3c92bcccf9f99",
            "8436ee8dc33a41f08f7b383341557e71",
            "a46a37eefba145c0a2c5a37bf4e48e8d",
            "2104f75199894196b84ee959adad7ec8",
            "7c131ffe1660460c96e7d002f8a14d92",
            "52d0da86d6d0443291be90a1894034b0",
            "3a649f84ed654066bafb629b95b828a7",
            "c2f0cec74ff1407ba471ef4a100ab93e",
            "a00bf71d3d1c49c1a9b78e1367314c9e",
            "122a0b75ef2c423488aed64df11d9247",
            "aacb77aa8cdd473fb42a0d0b83361049",
            "4582f296d1d1498590014dd7630f0082",
            "e9ab6fafe63b46eab41cd1358cfcfd98",
            "416a48fd0b2f44ee9a3e3666a0b2b0cf",
            "db59e4f8e87a409cad42c344610f553a",
            "c9c108a98ba54a22ac081da2a78efdc0",
            "8bc60649411242e3a6dd86a17ac40af4",
            "1b352a86240e44e5925dc0b9e88c59d8",
            "3196354d731a47d09d76a49d66bb4954",
            "39d97d5be4ce45688e5400482583c88e"
          ]
        },
        "id": "hNZ8YTO0p-BP",
        "outputId": "f76c648c-55d5-4ec2-ebe4-e6b117b905e5"
      },
      "execution_count": 113,
      "outputs": [
        {
          "output_type": "display_data",
          "data": {
            "text/plain": [
              "<IPython.core.display.HTML object>"
            ],
            "text/html": [
              "\n",
              "            <style>\n",
              "                .geemap-dark {\n",
              "                    --jp-widgets-color: white;\n",
              "                    --jp-widgets-label-color: white;\n",
              "                    --jp-ui-font-color1: white;\n",
              "                    --jp-layout-color2: #454545;\n",
              "                    background-color: #383838;\n",
              "                }\n",
              "\n",
              "                .geemap-dark .jupyter-button {\n",
              "                    --jp-layout-color3: #383838;\n",
              "                }\n",
              "\n",
              "                .geemap-colab {\n",
              "                    background-color: var(--colab-primary-surface-color, white);\n",
              "                }\n",
              "\n",
              "                .geemap-colab .jupyter-button {\n",
              "                    --jp-layout-color3: var(--colab-primary-surface-color, white);\n",
              "                }\n",
              "            </style>\n",
              "            "
            ]
          },
          "metadata": {}
        },
        {
          "output_type": "stream",
          "name": "stdout",
          "text": [
            "{'geodesic': False, 'type': 'Polygon', 'coordinates': [[[-180, 90], [0, 90], [180, 90], [180, -90], [0, -90], [-180, -90], [-180, 90]]]}\n"
          ]
        },
        {
          "output_type": "display_data",
          "data": {
            "text/plain": [
              "Map(center=[0, 0], controls=(WidgetControl(options=['position', 'transparent_bg'], widget=SearchDataGUI(childr…"
            ],
            "application/vnd.jupyter.widget-view+json": {
              "version_major": 2,
              "version_minor": 0,
              "model_id": "f3b4de105a9f4c4d8c30a9215bd84110"
            }
          },
          "metadata": {
            "application/vnd.jupyter.widget-view+json": {
              "colab": {
                "custom_widget_manager": {
                  "url": "https://ssl.gstatic.com/colaboratory-static/widgets/colab-cdn-widget-manager/2b70e893a8ba7c0f/manager.min.js"
                }
              }
            }
          }
        }
      ]
    },
    {
      "cell_type": "code",
      "source": [
        "pre = gez_2010_level1\n",
        "post = worldclim_koppen_trewartha_w_mountains.select(0).rename(\"b1\")\n"
      ],
      "metadata": {
        "colab": {
          "base_uri": "https://localhost:8080/",
          "height": 17
        },
        "id": "qekdl3Pdpa_R",
        "outputId": "43e6d76f-7df0-47b3-d50b-2b06d34b49f8"
      },
      "execution_count": 121,
      "outputs": [
        {
          "output_type": "display_data",
          "data": {
            "text/plain": [
              "<IPython.core.display.HTML object>"
            ],
            "text/html": [
              "\n",
              "            <style>\n",
              "                .geemap-dark {\n",
              "                    --jp-widgets-color: white;\n",
              "                    --jp-widgets-label-color: white;\n",
              "                    --jp-ui-font-color1: white;\n",
              "                    --jp-layout-color2: #454545;\n",
              "                    background-color: #383838;\n",
              "                }\n",
              "\n",
              "                .geemap-dark .jupyter-button {\n",
              "                    --jp-layout-color3: #383838;\n",
              "                }\n",
              "\n",
              "                .geemap-colab {\n",
              "                    background-color: var(--colab-primary-surface-color, white);\n",
              "                }\n",
              "\n",
              "                .geemap-colab .jupyter-button {\n",
              "                    --jp-layout-color3: var(--colab-primary-surface-color, white);\n",
              "                }\n",
              "            </style>\n",
              "            "
            ]
          },
          "metadata": {}
        }
      ]
    },
    {
      "cell_type": "code",
      "source": [
        "# Define the band name and the class labels and colors corresponding to each pixel value.\n",
        "band = \"b1\"\n",
        "\n",
        "labels = {\n",
        "    1: \"tropical\",\n",
        "    2: \"subtropical\",\n",
        "    3: \"temperate\",\n",
        "    4: \"boreal\",\n",
        "    5: \"polar\",\n",
        "}\n",
        "palette = {\n",
        "    # 0: \"#419BDF\",\n",
        "    1: \"#397D49\",\n",
        "    2: \"#88B053\",\n",
        "    3: \"#7A87C6\",\n",
        "    4: \"#E49635\",\n",
        "    5: \"#DFC35A\",\n",
        "    # 6: \"#C4281B\",\n",
        "    # 7: \"#A59B8F\",\n",
        "    # 8: \"#B39FE1\"\n",
        "}\n"
      ],
      "metadata": {
        "colab": {
          "base_uri": "https://localhost:8080/",
          "height": 17
        },
        "id": "O7mA5A0AkHnn",
        "outputId": "5e3999fa-0a44-445e-a367-93564dbebdb4"
      },
      "execution_count": 122,
      "outputs": [
        {
          "output_type": "display_data",
          "data": {
            "text/plain": [
              "<IPython.core.display.HTML object>"
            ],
            "text/html": [
              "\n",
              "            <style>\n",
              "                .geemap-dark {\n",
              "                    --jp-widgets-color: white;\n",
              "                    --jp-widgets-label-color: white;\n",
              "                    --jp-ui-font-color1: white;\n",
              "                    --jp-layout-color2: #454545;\n",
              "                    background-color: #383838;\n",
              "                }\n",
              "\n",
              "                .geemap-dark .jupyter-button {\n",
              "                    --jp-layout-color3: #383838;\n",
              "                }\n",
              "\n",
              "                .geemap-colab {\n",
              "                    background-color: var(--colab-primary-surface-color, white);\n",
              "                }\n",
              "\n",
              "                .geemap-colab .jupyter-button {\n",
              "                    --jp-layout-color3: var(--colab-primary-surface-color, white);\n",
              "                }\n",
              "            </style>\n",
              "            "
            ]
          },
          "metadata": {}
        }
      ]
    },
    {
      "cell_type": "code",
      "source": [
        "factor =100\n",
        "scale = pre.select(0).projection().nominalScale().multiply(ee.Number(factor)).getInfo()\n",
        "\n",
        "# Generate the Sankey diagram from the two images\n",
        "sankee.sankify(\n",
        "    image_list=[pre, post],\n",
        "    region=aoi,\n",
        "    band=band,\n",
        "    labels=labels,\n",
        "    palette=palette,\n",
        "    scale=scale,\n",
        "    n=100000,\n",
        "    seed=11\n",
        ")\n"
      ],
      "metadata": {
        "colab": {
          "base_uri": "https://localhost:8080/",
          "height": 17
        },
        "id": "L3zgnqhRj_-v",
        "outputId": "d413efa0-7c09-420e-fdcb-5aa78788268c"
      },
      "execution_count": null,
      "outputs": [
        {
          "output_type": "display_data",
          "data": {
            "text/plain": [
              "<IPython.core.display.HTML object>"
            ],
            "text/html": [
              "\n",
              "            <style>\n",
              "                .geemap-dark {\n",
              "                    --jp-widgets-color: white;\n",
              "                    --jp-widgets-label-color: white;\n",
              "                    --jp-ui-font-color1: white;\n",
              "                    --jp-layout-color2: #454545;\n",
              "                    background-color: #383838;\n",
              "                }\n",
              "\n",
              "                .geemap-dark .jupyter-button {\n",
              "                    --jp-layout-color3: #383838;\n",
              "                }\n",
              "\n",
              "                .geemap-colab {\n",
              "                    background-color: var(--colab-primary-surface-color, white);\n",
              "                }\n",
              "\n",
              "                .geemap-colab .jupyter-button {\n",
              "                    --jp-layout-color3: var(--colab-primary-surface-color, white);\n",
              "                }\n",
              "            </style>\n",
              "            "
            ]
          },
          "metadata": {}
        }
      ]
    },
    {
      "cell_type": "code",
      "source": [],
      "metadata": {
        "id": "9bpSTG_crD93"
      },
      "execution_count": null,
      "outputs": []
    }
  ]
}