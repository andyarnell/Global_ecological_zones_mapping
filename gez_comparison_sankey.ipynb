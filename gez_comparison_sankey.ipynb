{
  "nbformat": 4,
  "nbformat_minor": 0,
  "metadata": {
    "colab": {
      "provenance": [],
      "authorship_tag": "ABX9TyPLN7j9P9bxGcVsM0B0FSVk",
      "include_colab_link": true
    },
    "kernelspec": {
      "name": "python3",
      "display_name": "Python 3"
    },
    "language_info": {
      "name": "python"
    }
  },
  "cells": [
    {
      "cell_type": "markdown",
      "metadata": {
        "id": "view-in-github",
        "colab_type": "text"
      },
      "source": [
        "<a href=\"https://colab.research.google.com/github/andyarnell/Global_ecological_zones_mapping/blob/main/gez_comparison_sankey.ipynb\" target=\"_parent\"><img src=\"https://colab.research.google.com/assets/colab-badge.svg\" alt=\"Open In Colab\"/></a>"
      ]
    },
    {
      "cell_type": "code",
      "execution_count": null,
      "metadata": {
        "id": "0rZEiP5dcQ15"
      },
      "outputs": [],
      "source": [
        "# Function to install a package if it's not already installed\n",
        "def install_if_not_exists(package_name):\n",
        "    try:\n",
        "        __import__(package_name)\n",
        "        print(f\"{package_name} is already installed.\")\n",
        "    except ImportError:\n",
        "        !pip install -q {package_name}\n",
        "        print(f\"{package_name} has been installed.\")\n",
        "\n",
        "install_if_not_exists(\"sankee\")\n",
        "\n",
        "import sankee\n",
        "import ee\n",
        "import ee # google earth engine\n",
        "\n",
        "from google.colab import output\n",
        "output.enable_custom_widget_manager()\n",
        "\n",
        "gee_project_name = \"ee-andyarnellgee\"\n",
        "\n",
        "ee.Authenticate()\n",
        "\n",
        "ee.Initialize(project=gee_project_name)\n",
        "\n"
      ]
    },
    {
      "cell_type": "code",
      "source": [
        "# Load two images\n",
        "pre = ee.Image(\"GOOGLE/DYNAMICWORLD/V1/20200904T185921_20200904T190750_T10TEQ\")\n",
        "post = ee.Image(\"GOOGLE/DYNAMICWORLD/V1/20201009T190319_20201009T190349_T10TEQ\")\n",
        "aoi = ee.Geometry.Point([-122.30239918572622, 44.802882471354316]).buffer(1000)\n"
      ],
      "metadata": {
        "id": "uC-zoMGlj0SX"
      },
      "execution_count": null,
      "outputs": []
    },
    {
      "cell_type": "code",
      "source": [
        "# Define the band name and the class labels and colors corresponding to each pixel value.\n",
        "band = \"label\"\n",
        "\n",
        "labels = {\n",
        "    0: \"water\",\n",
        "    1: \"trees\",\n",
        "    2: \"grass\",\n",
        "    3: \"flooded_vegetation\",\n",
        "    4: \"crops\",\n",
        "    5: \"shrub_and_scrub\",\n",
        "    6: \"built\",\n",
        "    7: \"bare\",\n",
        "    8: \"snow_and_ice\"\n",
        "}\n",
        "\n",
        "palette = {\n",
        "    0: \"#419BDF\",\n",
        "    1: \"#397D49\",\n",
        "    2: \"#88B053\",\n",
        "    3: \"#7A87C6\",\n",
        "    4: \"#E49635\",\n",
        "    5: \"#DFC35A\",\n",
        "    6: \"#C4281B\",\n",
        "    7: \"#A59B8F\",\n",
        "    8: \"#B39FE1\"\n",
        "}\n"
      ],
      "metadata": {
        "id": "O7mA5A0AkHnn"
      },
      "execution_count": null,
      "outputs": []
    },
    {
      "cell_type": "code",
      "source": [
        "\n",
        "# Generate the Sankey diagram from the two images\n",
        "sankee.sankify(\n",
        "    image_list=[pre, post],\n",
        "    region=aoi,\n",
        "    band=band,\n",
        "    labels=labels,\n",
        "    palette=palette,\n",
        ")"
      ],
      "metadata": {
        "id": "L3zgnqhRj_-v"
      },
      "execution_count": null,
      "outputs": []
    }
  ]
}